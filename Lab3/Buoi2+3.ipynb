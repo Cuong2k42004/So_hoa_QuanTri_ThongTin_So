{
 "cells": [
  {
   "cell_type": "markdown",
   "id": "d9c2d69f-3f29-4767-a633-dd30f02fe97f",
   "metadata": {},
   "source": [
    "## Lab2: Numpy, pandas và matplotlib nâng cao"
   ]
  },
  {
   "cell_type": "markdown",
   "id": "9ccb65cf-2b07-434c-a154-dc31626c0640",
   "metadata": {},
   "source": [
    "### 1.1 Numpy"
   ]
  },
  {
   "cell_type": "code",
   "execution_count": 1,
   "id": "9537fa7e-b3fa-42a7-a631-a6b3b73e14c7",
   "metadata": {},
   "outputs": [
    {
     "data": {
      "text/plain": [
       "np.int64(3)"
      ]
     },
     "execution_count": 1,
     "metadata": {},
     "output_type": "execute_result"
    }
   ],
   "source": [
    "import numpy as np\n",
    "\n",
    "x = np.array([1, 2, 3, 4, 5, 6, 7, 8])\n",
    "# lấy số 3\n",
    "x[2]\n"
   ]
  },
  {
   "cell_type": "code",
   "execution_count": 2,
   "id": "5c836883-2982-4591-98f5-87b23301990c",
   "metadata": {},
   "outputs": [
    {
     "data": {
      "text/plain": [
       "array([1, 2, 3])"
      ]
     },
     "execution_count": 2,
     "metadata": {},
     "output_type": "execute_result"
    }
   ],
   "source": [
    "#lấy số từ 1 tới 3\n",
    "x[:3]\n"
   ]
  },
  {
   "cell_type": "code",
   "execution_count": 3,
   "id": "b5e87e20-218a-4a33-83d5-d52a2ff46062",
   "metadata": {},
   "outputs": [
    {
     "data": {
      "text/plain": [
       "array([3, 4, 5, 6, 7, 8])"
      ]
     },
     "execution_count": 3,
     "metadata": {},
     "output_type": "execute_result"
    }
   ],
   "source": [
    "#lấy từ 3 tới 8\n",
    "# x[2 : 8]\n",
    "x[2:]"
   ]
  },
  {
   "cell_type": "code",
   "execution_count": 4,
   "id": "4a117ff9-e1d5-4556-a890-33dab06b096e",
   "metadata": {},
   "outputs": [
    {
     "data": {
      "text/plain": [
       "array([3, 4, 5, 6, 7])"
      ]
     },
     "execution_count": 4,
     "metadata": {},
     "output_type": "execute_result"
    }
   ],
   "source": [
    "#lấy từ 3 tới 7\n",
    "# x[2: 7]\n",
    "x[2: -1]"
   ]
  },
  {
   "cell_type": "code",
   "execution_count": 5,
   "id": "ef75bf26-6556-4c89-a2ba-0ca9d08b7fe1",
   "metadata": {},
   "outputs": [
    {
     "name": "stdout",
     "output_type": "stream",
     "text": [
      "[7 8]\n"
     ]
    }
   ],
   "source": [
    "# lấy số 7, số 8\n",
    "print(x[-2:])"
   ]
  },
  {
   "cell_type": "code",
   "execution_count": 6,
   "id": "b5852c30-c2ff-4ed1-b985-40cf8de6cab3",
   "metadata": {},
   "outputs": [
    {
     "name": "stdout",
     "output_type": "stream",
     "text": [
      "3 5\n"
     ]
    }
   ],
   "source": [
    "#lấy phần tử với index 2 và 4\n",
    "print(x[2], x[4])\n"
   ]
  },
  {
   "cell_type": "code",
   "execution_count": 7,
   "id": "249dbdc8-8483-4311-9ddc-9c8007282187",
   "metadata": {},
   "outputs": [
    {
     "name": "stdout",
     "output_type": "stream",
     "text": [
      "[[1 2]\n",
      " [3 4]\n",
      " [5 6]]\n"
     ]
    }
   ],
   "source": [
    "import numpy as np\n",
    "\n",
    "data = [(1,2), (3, 4), (5,6)]\n",
    "\n",
    "mang = np.array(data)\n",
    "print(mang)"
   ]
  },
  {
   "cell_type": "code",
   "execution_count": 8,
   "id": "9901d1ae-225a-4b30-9465-6e1d92fed7a3",
   "metadata": {},
   "outputs": [
    {
     "name": "stdout",
     "output_type": "stream",
     "text": [
      "2\n"
     ]
    }
   ],
   "source": [
    "print(mang[0, 1])"
   ]
  },
  {
   "cell_type": "code",
   "execution_count": 9,
   "id": "9e3f4c05-ba02-46cc-b6df-b25ae3da4632",
   "metadata": {},
   "outputs": [
    {
     "name": "stdout",
     "output_type": "stream",
     "text": [
      "6\n"
     ]
    }
   ],
   "source": [
    "print(mang[2, 1])"
   ]
  },
  {
   "cell_type": "code",
   "execution_count": 10,
   "id": "dd7d7903-169f-46ca-95e7-2c65ef09ff25",
   "metadata": {},
   "outputs": [
    {
     "name": "stdout",
     "output_type": "stream",
     "text": [
      "6\n"
     ]
    }
   ],
   "source": [
    "print(mang[-1, 1])"
   ]
  },
  {
   "cell_type": "code",
   "execution_count": 11,
   "id": "10440e6c-2dcf-4492-adf4-2312d343c38d",
   "metadata": {},
   "outputs": [
    {
     "name": "stdout",
     "output_type": "stream",
     "text": [
      "[[3 4]\n",
      " [5 6]]\n"
     ]
    }
   ],
   "source": [
    "# lấy 3,4,5,6\n",
    "\n",
    "print(mang[1:, :])"
   ]
  },
  {
   "cell_type": "code",
   "execution_count": 12,
   "id": "d63ab424-0125-4cac-a044-1a87eb5097c5",
   "metadata": {},
   "outputs": [
    {
     "name": "stdout",
     "output_type": "stream",
     "text": [
      "[3 4] [5 6]\n"
     ]
    }
   ],
   "source": [
    "print(mang[1], mang[2])"
   ]
  },
  {
   "cell_type": "code",
   "execution_count": 13,
   "id": "e68d688b-d2d9-4b1b-8725-73b10178681d",
   "metadata": {},
   "outputs": [
    {
     "name": "stdout",
     "output_type": "stream",
     "text": [
      "[[3 4]\n",
      " [5 6]]\n"
     ]
    }
   ],
   "source": [
    "print(mang[[1,2], :])"
   ]
  },
  {
   "cell_type": "code",
   "execution_count": 14,
   "id": "8ddb707b-4c82-435d-b1a9-c1d30a2da91e",
   "metadata": {},
   "outputs": [
    {
     "name": "stdout",
     "output_type": "stream",
     "text": [
      "[[3 4]\n",
      " [5 6]]\n"
     ]
    }
   ],
   "source": [
    "print(mang[1:3])"
   ]
  },
  {
   "cell_type": "code",
   "execution_count": 15,
   "id": "6a73a906-0b58-4428-a606-5e067e757357",
   "metadata": {},
   "outputs": [
    {
     "name": "stdout",
     "output_type": "stream",
     "text": [
      "[[3 4]\n",
      " [5 6]]\n"
     ]
    }
   ],
   "source": [
    "print(mang[-2:])"
   ]
  },
  {
   "cell_type": "code",
   "execution_count": 16,
   "id": "26457aa4-2786-4800-aefa-eb1c17ad9790",
   "metadata": {},
   "outputs": [
    {
     "data": {
      "text/plain": [
       "array([1, 3, 5])"
      ]
     },
     "execution_count": 16,
     "metadata": {},
     "output_type": "execute_result"
    }
   ],
   "source": [
    "# lấy 1,3,5\n",
    "mang[:, 0]"
   ]
  },
  {
   "cell_type": "code",
   "execution_count": 17,
   "id": "6ac30533-be70-46c0-8bdd-4d17de1e68a8",
   "metadata": {},
   "outputs": [
    {
     "data": {
      "text/plain": [
       "array([1, 5])"
      ]
     },
     "execution_count": 17,
     "metadata": {},
     "output_type": "execute_result"
    }
   ],
   "source": [
    "mang[[0,2], 0]"
   ]
  },
  {
   "cell_type": "code",
   "execution_count": 18,
   "id": "c731c78d-90fd-41c5-acbb-6032e4a1246d",
   "metadata": {},
   "outputs": [
    {
     "data": {
      "text/plain": [
       "array([1, 5])"
      ]
     },
     "execution_count": 18,
     "metadata": {},
     "output_type": "execute_result"
    }
   ],
   "source": [
    "# lấy 1 và 5 theo fomat start:end:step\n",
    "mang[::2,0]"
   ]
  },
  {
   "cell_type": "code",
   "execution_count": 19,
   "id": "9b973c7b-8bf9-432f-bc7c-245a4254249c",
   "metadata": {},
   "outputs": [
    {
     "data": {
      "text/plain": [
       "array([1, 5])"
      ]
     },
     "execution_count": 19,
     "metadata": {},
     "output_type": "execute_result"
    }
   ],
   "source": [
    "mang[::2,0]"
   ]
  },
  {
   "cell_type": "code",
   "execution_count": 20,
   "id": "4c279042-bd70-4f3a-b8b6-e1cf0fb788d4",
   "metadata": {},
   "outputs": [
    {
     "name": "stdout",
     "output_type": "stream",
     "text": [
      "[[ 1  2  3  4]\n",
      " [ 5  6  7  8]\n",
      " [ 9 10 11 12]\n",
      " [13 14 15 16]]\n"
     ]
    }
   ],
   "source": [
    "x = [\n",
    "    [1,2,3,4],\n",
    "    [5,6,7,8],\n",
    "    [9,10,11,12],\n",
    "    [13,14,15,16]\n",
    "]\n",
    "\n",
    "X = np.array(x)\n",
    "print(X)"
   ]
  },
  {
   "cell_type": "code",
   "execution_count": 21,
   "id": "bf803aa1-9d1f-404d-a7b8-390486e51a75",
   "metadata": {},
   "outputs": [
    {
     "data": {
      "text/plain": [
       "array([ 7, 11])"
      ]
     },
     "execution_count": 21,
     "metadata": {},
     "output_type": "execute_result"
    }
   ],
   "source": [
    "X[1:3,2]"
   ]
  },
  {
   "cell_type": "code",
   "execution_count": 22,
   "id": "9893e195-49aa-4e86-bb61-830f0c661f3f",
   "metadata": {},
   "outputs": [
    {
     "data": {
      "text/plain": [
       "array([ 4,  7, 10])"
      ]
     },
     "execution_count": 22,
     "metadata": {},
     "output_type": "execute_result"
    }
   ],
   "source": [
    "#Lấy 4, 7, 10\n",
    "\n",
    "X[[0,1,2],[3,2,1]]"
   ]
  },
  {
   "cell_type": "code",
   "execution_count": 23,
   "id": "d3b33330-2fa0-4e2c-a69c-e15fbd540c5e",
   "metadata": {},
   "outputs": [
    {
     "data": {
      "text/plain": [
       "array([16, 15, 14, 13])"
      ]
     },
     "execution_count": 23,
     "metadata": {},
     "output_type": "execute_result"
    }
   ],
   "source": [
    "#lấy 16, 15, 14, 13\n",
    "X[3,:] [::-1][:4]"
   ]
  },
  {
   "cell_type": "code",
   "execution_count": 24,
   "id": "4e4d66e0-328f-4f0e-9226-492474db8715",
   "metadata": {},
   "outputs": [
    {
     "data": {
      "text/plain": [
       "array([16, 15, 14, 13])"
      ]
     },
     "execution_count": 24,
     "metadata": {},
     "output_type": "execute_result"
    }
   ],
   "source": [
    "X[3, ::-1]"
   ]
  },
  {
   "cell_type": "code",
   "execution_count": 25,
   "id": "0688ca41-b9b7-46c6-9841-4b369f7547ce",
   "metadata": {},
   "outputs": [
    {
     "data": {
      "text/plain": [
       "array([16, 15, 14, 13])"
      ]
     },
     "execution_count": 25,
     "metadata": {},
     "output_type": "execute_result"
    }
   ],
   "source": [
    "X[-1, -1 :: -1]"
   ]
  },
  {
   "cell_type": "code",
   "execution_count": 26,
   "id": "5118a5c8-7393-42e1-9341-99fc2d07b35e",
   "metadata": {},
   "outputs": [
    {
     "name": "stdout",
     "output_type": "stream",
     "text": [
      "[[1 2 3]\n",
      " [4 5 6]\n",
      " [7 8 9]]\n"
     ]
    },
    {
     "data": {
      "text/plain": [
       "array([4, 5, 6])"
      ]
     },
     "execution_count": 26,
     "metadata": {},
     "output_type": "execute_result"
    }
   ],
   "source": [
    "# Bài tập trên lớp từ 14h20p - 14h35\n",
    "\n",
    "A = [\n",
    "    [1 ,2 ,3],\n",
    "    [4 ,5 ,6],\n",
    "    [7 ,8 ,9]\n",
    "]\n",
    "#lấy 456\n",
    "mangA = np.array(A)\n",
    "print(mangA)\n",
    "mangA[1, :]"
   ]
  },
  {
   "cell_type": "code",
   "execution_count": 27,
   "id": "8cf5b654-1d48-4c86-a3c1-4ae3f8f4d2b3",
   "metadata": {},
   "outputs": [
    {
     "data": {
      "text/plain": [
       "array([2, 5])"
      ]
     },
     "execution_count": 27,
     "metadata": {},
     "output_type": "execute_result"
    }
   ],
   "source": [
    "#lấy 2, 5\n",
    "mangA[0:2,1]"
   ]
  },
  {
   "cell_type": "code",
   "execution_count": 28,
   "id": "0a5f03f3-d0d8-44b7-ae7a-17fd62f2095c",
   "metadata": {},
   "outputs": [
    {
     "data": {
      "text/plain": [
       "array([3, 4])"
      ]
     },
     "execution_count": 28,
     "metadata": {},
     "output_type": "execute_result"
    }
   ],
   "source": [
    "#lấy 3, 4\n",
    "mangA[[0,1],[2,0]]"
   ]
  },
  {
   "cell_type": "code",
   "execution_count": 29,
   "id": "7025dbf6-30a9-445d-8fe8-1fe61886297d",
   "metadata": {},
   "outputs": [
    {
     "data": {
      "text/plain": [
       "array([9, 6, 3])"
      ]
     },
     "execution_count": 29,
     "metadata": {},
     "output_type": "execute_result"
    }
   ],
   "source": [
    "# lấy 9,6,3\n",
    "mangA[:3,-1][::-1] # CÁCH 1"
   ]
  },
  {
   "cell_type": "code",
   "execution_count": 30,
   "id": "c02c4a9d-1c04-48d4-af06-4442df93c0ac",
   "metadata": {},
   "outputs": [
    {
     "data": {
      "text/plain": [
       "array([9, 6, 3])"
      ]
     },
     "execution_count": 30,
     "metadata": {},
     "output_type": "execute_result"
    }
   ],
   "source": [
    "mangA[::-1,2]"
   ]
  },
  {
   "cell_type": "code",
   "execution_count": 31,
   "id": "7687a639-5b6f-486c-a878-346da6be6d39",
   "metadata": {},
   "outputs": [
    {
     "data": {
      "text/plain": [
       "[2, 4, 6, 8, 10]"
      ]
     },
     "execution_count": 31,
     "metadata": {},
     "output_type": "execute_result"
    }
   ],
   "source": [
    "mangX = [1,2,3,4,5,6,7,8,9,10]\n",
    "#lấy các phần tử chẵn\n",
    "mang_chan = np.array(mangX)\n",
    "mang_chan = [num for num in mangX if num %2 == 0]\n",
    "mang_chan"
   ]
  },
  {
   "cell_type": "code",
   "execution_count": 32,
   "id": "69fb4c7c-7023-4c49-8aaa-3d29a8f9699d",
   "metadata": {},
   "outputs": [
    {
     "data": {
      "text/plain": [
       "array([[1., 1., 1.],\n",
       "       [1., 1., 1.],\n",
       "       [1., 1., 1.]])"
      ]
     },
     "execution_count": 32,
     "metadata": {},
     "output_type": "execute_result"
    }
   ],
   "source": [
    "# tạo 1 ma trận 3 số 1\n",
    "\n",
    "np.ones((3,3))"
   ]
  },
  {
   "cell_type": "code",
   "execution_count": 33,
   "id": "0983cc92-c83f-4953-a256-a16a9f29a54c",
   "metadata": {},
   "outputs": [
    {
     "data": {
      "text/plain": [
       "array([0, 1, 2])"
      ]
     },
     "execution_count": 33,
     "metadata": {},
     "output_type": "execute_result"
    }
   ],
   "source": [
    "np.arange(3)"
   ]
  },
  {
   "cell_type": "code",
   "execution_count": 34,
   "id": "f44fa03e-8c3d-4753-99b0-1ca744cb0a90",
   "metadata": {},
   "outputs": [
    {
     "data": {
      "text/plain": [
       "array([[1., 2., 3.],\n",
       "       [1., 2., 3.],\n",
       "       [1., 2., 3.]])"
      ]
     },
     "execution_count": 34,
     "metadata": {},
     "output_type": "execute_result"
    }
   ],
   "source": [
    " np.ones((3,3)) + np.arange(3)"
   ]
  },
  {
   "cell_type": "code",
   "execution_count": 35,
   "id": "9e1adadd-3ad3-44a0-8d75-2edde6f2ec25",
   "metadata": {},
   "outputs": [
    {
     "data": {
      "text/plain": [
       "array([0, 1, 2])"
      ]
     },
     "execution_count": 35,
     "metadata": {},
     "output_type": "execute_result"
    }
   ],
   "source": [
    "mangX = np.arange(3)\n",
    "mangX"
   ]
  },
  {
   "cell_type": "code",
   "execution_count": 36,
   "id": "af84e159-3812-4006-a860-7e2d3ac8b264",
   "metadata": {},
   "outputs": [
    {
     "data": {
      "text/plain": [
       "(3,)"
      ]
     },
     "execution_count": 36,
     "metadata": {},
     "output_type": "execute_result"
    }
   ],
   "source": [
    "mangX.shape"
   ]
  },
  {
   "cell_type": "code",
   "execution_count": 37,
   "id": "a92b0290-7024-492f-b78e-16bf7a773f28",
   "metadata": {},
   "outputs": [
    {
     "data": {
      "text/plain": [
       "array([[0],\n",
       "       [1],\n",
       "       [2]])"
      ]
     },
     "execution_count": 37,
     "metadata": {},
     "output_type": "execute_result"
    }
   ],
   "source": [
    "mangX = mangX.reshape((3,1))\n",
    "mangX"
   ]
  },
  {
   "cell_type": "code",
   "execution_count": 38,
   "id": "05e6e36e-a868-4c78-a767-06c092f71c3a",
   "metadata": {},
   "outputs": [
    {
     "data": {
      "text/plain": [
       "array([0, 1, 2])"
      ]
     },
     "execution_count": 38,
     "metadata": {},
     "output_type": "execute_result"
    }
   ],
   "source": [
    "y = np.arange(3)\n",
    "y"
   ]
  },
  {
   "cell_type": "code",
   "execution_count": 39,
   "id": "3960303f-ee8e-40a8-b025-314d1cbb9024",
   "metadata": {},
   "outputs": [
    {
     "data": {
      "text/plain": [
       "array([[0, 1, 2],\n",
       "       [1, 2, 3],\n",
       "       [2, 3, 4]])"
      ]
     },
     "execution_count": 39,
     "metadata": {},
     "output_type": "execute_result"
    }
   ],
   "source": [
    "mangX+y"
   ]
  },
  {
   "cell_type": "markdown",
   "id": "268c717c-0bbe-40f3-965e-d409b2ee147b",
   "metadata": {},
   "source": [
    "### 1.2 Pandas"
   ]
  },
  {
   "cell_type": "code",
   "execution_count": 41,
   "id": "3d81b486-e52a-42ac-9115-f38b2aeb5686",
   "metadata": {},
   "outputs": [
    {
     "name": "stdout",
     "output_type": "stream",
     "text": [
      "    ID         Name   Age    Salary\n",
      "0  101    Quynh Nhu  26.0   50000.0\n",
      "1  102    Hoang Hai  18.0   35000.0\n",
      "2  103         None  20.0   65000.0\n",
      "3  104  Phuong Tuan   NaN  100000.0\n",
      "4  105     Thien An  18.0       NaN\n"
     ]
    }
   ],
   "source": [
    "import pandas as pd\n",
    "import numpy as np\n",
    "\n",
    "data = {\n",
    "    \"ID\" : [101,102,103,104,105],\n",
    "    \"Name\" : [\"Quynh Nhu\", \"Hoang Hai\", None, \"Phuong Tuan\", \"Thien An\"],\n",
    "    \"Age\" : [26,18,20,None,18],\n",
    "    \"Salary\" : [50000, 35000, 65000, 100000, None],\n",
    "    \n",
    "}\n",
    "\n",
    "df = pd.DataFrame(data)\n",
    "print(df)"
   ]
  },
  {
   "cell_type": "code",
   "execution_count": 42,
   "id": "fb531e0b-de09-46ff-9c49-ee66ce0e1c9e",
   "metadata": {},
   "outputs": [
    {
     "name": "stdout",
     "output_type": "stream",
     "text": [
      "20.5\n"
     ]
    }
   ],
   "source": [
    "#Cau 1: Điền giá trị thiếu trong cột Age = trung bình# Tính giá trị trung bình của cột \"Age\"\n",
    "average_age = df['Age'].mean()\n",
    "\n",
    "print(average_age)"
   ]
  },
  {
   "cell_type": "code",
   "execution_count": 43,
   "id": "da7ae5b1-25b4-4cea-b8bb-8c792d261900",
   "metadata": {},
   "outputs": [
    {
     "data": {
      "text/html": [
       "<div>\n",
       "<style scoped>\n",
       "    .dataframe tbody tr th:only-of-type {\n",
       "        vertical-align: middle;\n",
       "    }\n",
       "\n",
       "    .dataframe tbody tr th {\n",
       "        vertical-align: top;\n",
       "    }\n",
       "\n",
       "    .dataframe thead th {\n",
       "        text-align: right;\n",
       "    }\n",
       "</style>\n",
       "<table border=\"1\" class=\"dataframe\">\n",
       "  <thead>\n",
       "    <tr style=\"text-align: right;\">\n",
       "      <th></th>\n",
       "      <th>ID</th>\n",
       "      <th>Name</th>\n",
       "      <th>Age</th>\n",
       "      <th>Salary</th>\n",
       "    </tr>\n",
       "  </thead>\n",
       "  <tbody>\n",
       "    <tr>\n",
       "      <th>0</th>\n",
       "      <td>101</td>\n",
       "      <td>Quynh Nhu</td>\n",
       "      <td>26.0</td>\n",
       "      <td>50000.0</td>\n",
       "    </tr>\n",
       "    <tr>\n",
       "      <th>1</th>\n",
       "      <td>102</td>\n",
       "      <td>Hoang Hai</td>\n",
       "      <td>18.0</td>\n",
       "      <td>35000.0</td>\n",
       "    </tr>\n",
       "    <tr>\n",
       "      <th>2</th>\n",
       "      <td>103</td>\n",
       "      <td>None</td>\n",
       "      <td>20.0</td>\n",
       "      <td>65000.0</td>\n",
       "    </tr>\n",
       "    <tr>\n",
       "      <th>3</th>\n",
       "      <td>104</td>\n",
       "      <td>Phuong Tuan</td>\n",
       "      <td>20.5</td>\n",
       "      <td>100000.0</td>\n",
       "    </tr>\n",
       "    <tr>\n",
       "      <th>4</th>\n",
       "      <td>105</td>\n",
       "      <td>Thien An</td>\n",
       "      <td>18.0</td>\n",
       "      <td>NaN</td>\n",
       "    </tr>\n",
       "  </tbody>\n",
       "</table>\n",
       "</div>"
      ],
      "text/plain": [
       "    ID         Name   Age    Salary\n",
       "0  101    Quynh Nhu  26.0   50000.0\n",
       "1  102    Hoang Hai  18.0   35000.0\n",
       "2  103         None  20.0   65000.0\n",
       "3  104  Phuong Tuan  20.5  100000.0\n",
       "4  105     Thien An  18.0       NaN"
      ]
     },
     "execution_count": 43,
     "metadata": {},
     "output_type": "execute_result"
    }
   ],
   "source": [
    "#câu 2: Loại bỏ các dòng chứ dữ liệu thiếu\n",
    "df['Age'] = df['Age'].fillna(average_age)\n",
    "df\n"
   ]
  },
  {
   "cell_type": "code",
   "execution_count": 44,
   "id": "3b90f1f1-1a1c-4f97-bdfc-00d3d9c44f72",
   "metadata": {},
   "outputs": [
    {
     "data": {
      "text/plain": [
       "0      Quynh Nhu\n",
       "1      Hoang Hai\n",
       "2        Unknown\n",
       "3    Phuong Tuan\n",
       "4       Thien An\n",
       "Name: Name, dtype: object"
      ]
     },
     "execution_count": 44,
     "metadata": {},
     "output_type": "execute_result"
    }
   ],
   "source": [
    "#Câu 3: Điền giá trị thiếu trong Name = \"Unknow\" AritthnetucError\n",
    "df['Name'] = df['Name'].fillna('Unknown')\n",
    "df['Name']\n"
   ]
  },
  {
   "cell_type": "code",
   "execution_count": 45,
   "id": "3fc1ae0c-4e77-4dc4-ada9-4c7df8457b44",
   "metadata": {},
   "outputs": [
    {
     "data": {
      "text/plain": [
       "0     50000.0\n",
       "1     35000.0\n",
       "2     65000.0\n",
       "3    100000.0\n",
       "4    100000.0\n",
       "Name: Salary, dtype: float64"
      ]
     },
     "execution_count": 45,
     "metadata": {},
     "output_type": "execute_result"
    }
   ],
   "source": [
    "#Câu 4: Điền giá trị thiếu trong Salary = phuong pháp Interpolaiton\n",
    "df['Salary'] = df['Salary'].interpolate()\n",
    "\n",
    "df['Salary']"
   ]
  },
  {
   "cell_type": "code",
   "execution_count": 46,
   "id": "ad6cc660-4d02-4edc-af57-5bfabaad50ca",
   "metadata": {},
   "outputs": [
    {
     "data": {
      "text/html": [
       "<div>\n",
       "<style scoped>\n",
       "    .dataframe tbody tr th:only-of-type {\n",
       "        vertical-align: middle;\n",
       "    }\n",
       "\n",
       "    .dataframe tbody tr th {\n",
       "        vertical-align: top;\n",
       "    }\n",
       "\n",
       "    .dataframe thead th {\n",
       "        text-align: right;\n",
       "    }\n",
       "</style>\n",
       "<table border=\"1\" class=\"dataframe\">\n",
       "  <thead>\n",
       "    <tr style=\"text-align: right;\">\n",
       "      <th></th>\n",
       "      <th>Id</th>\n",
       "      <th>Score_A</th>\n",
       "    </tr>\n",
       "  </thead>\n",
       "  <tbody>\n",
       "    <tr>\n",
       "      <th>0</th>\n",
       "      <td>1</td>\n",
       "      <td>70</td>\n",
       "    </tr>\n",
       "    <tr>\n",
       "      <th>1</th>\n",
       "      <td>2</td>\n",
       "      <td>90</td>\n",
       "    </tr>\n",
       "    <tr>\n",
       "      <th>2</th>\n",
       "      <td>3</td>\n",
       "      <td>85</td>\n",
       "    </tr>\n",
       "  </tbody>\n",
       "</table>\n",
       "</div>"
      ],
      "text/plain": [
       "   Id  Score_A\n",
       "0   1       70\n",
       "1   2       90\n",
       "2   3       85"
      ]
     },
     "execution_count": 46,
     "metadata": {},
     "output_type": "execute_result"
    }
   ],
   "source": [
    "#Cho data sau:\n",
    "df1 = pd.DataFrame({\n",
    "    \"Id\": [1,2,3],\n",
    "    \"Score_A\" : [70,90,85]\n",
    "})\n",
    "df1"
   ]
  },
  {
   "cell_type": "code",
   "execution_count": 47,
   "id": "258e03f0-8e31-4f76-b996-c033c74af26e",
   "metadata": {},
   "outputs": [
    {
     "data": {
      "text/html": [
       "<div>\n",
       "<style scoped>\n",
       "    .dataframe tbody tr th:only-of-type {\n",
       "        vertical-align: middle;\n",
       "    }\n",
       "\n",
       "    .dataframe tbody tr th {\n",
       "        vertical-align: top;\n",
       "    }\n",
       "\n",
       "    .dataframe thead th {\n",
       "        text-align: right;\n",
       "    }\n",
       "</style>\n",
       "<table border=\"1\" class=\"dataframe\">\n",
       "  <thead>\n",
       "    <tr style=\"text-align: right;\">\n",
       "      <th></th>\n",
       "      <th>Id</th>\n",
       "      <th>Score_B</th>\n",
       "    </tr>\n",
       "  </thead>\n",
       "  <tbody>\n",
       "    <tr>\n",
       "      <th>0</th>\n",
       "      <td>4</td>\n",
       "      <td>62</td>\n",
       "    </tr>\n",
       "    <tr>\n",
       "      <th>1</th>\n",
       "      <td>5</td>\n",
       "      <td>91</td>\n",
       "    </tr>\n",
       "    <tr>\n",
       "      <th>2</th>\n",
       "      <td>6</td>\n",
       "      <td>75</td>\n",
       "    </tr>\n",
       "  </tbody>\n",
       "</table>\n",
       "</div>"
      ],
      "text/plain": [
       "   Id  Score_B\n",
       "0   4       62\n",
       "1   5       91\n",
       "2   6       75"
      ]
     },
     "execution_count": 47,
     "metadata": {},
     "output_type": "execute_result"
    }
   ],
   "source": [
    "df2 = pd.DataFrame({\n",
    "    \"Id\": [4,5,6],\n",
    "    \"Score_B\" : [62,91,75]\n",
    "})\n",
    "df2"
   ]
  },
  {
   "cell_type": "code",
   "execution_count": 48,
   "id": "aa61369b-1811-49ae-9c79-4710e4652944",
   "metadata": {},
   "outputs": [
    {
     "name": "stdout",
     "output_type": "stream",
     "text": [
      "Inner Join:\n",
      "Empty DataFrame\n",
      "Columns: [Id, Score_A, Score_B]\n",
      "Index: []\n"
     ]
    }
   ],
   "source": [
    "#Câu a: thực hiện Merge trên cột Id (Inter join, left join, outer join)\n",
    "# Inner join\n",
    "df_inner = pd.merge(df1, df2, on=\"Id\", how=\"inner\")\n",
    "print(\"Inner Join:\")\n",
    "print(df_inner)"
   ]
  },
  {
   "cell_type": "code",
   "execution_count": 49,
   "id": "ceea32dd-2ccd-4591-93e6-06c65f16c9b4",
   "metadata": {},
   "outputs": [
    {
     "name": "stdout",
     "output_type": "stream",
     "text": [
      "Left Join:\n",
      "   Id  Score_A  Score_B\n",
      "0   1       70      NaN\n",
      "1   2       90      NaN\n",
      "2   3       85      NaN\n"
     ]
    }
   ],
   "source": [
    "# Left join \n",
    "df_left = pd.merge(df1, df2, on=\"Id\", how=\"left\")\n",
    "print(\"Left Join:\")\n",
    "print(df_left)"
   ]
  },
  {
   "cell_type": "code",
   "execution_count": 50,
   "id": "90e6845f-1746-40de-9373-a431aa39f05d",
   "metadata": {},
   "outputs": [
    {
     "name": "stdout",
     "output_type": "stream",
     "text": [
      "Outer Join:\n",
      "   Id  Score_A  Score_B\n",
      "0   1     70.0      NaN\n",
      "1   2     90.0      NaN\n",
      "2   3     85.0      NaN\n",
      "3   4      NaN     62.0\n",
      "4   5      NaN     91.0\n",
      "5   6      NaN     75.0\n"
     ]
    }
   ],
   "source": [
    "# Outer join\n",
    "df_outer = pd.merge(df1, df2, on=\"Id\", how=\"outer\")\n",
    "print(\"Outer Join:\")\n",
    "print(df_outer)"
   ]
  },
  {
   "cell_type": "code",
   "execution_count": 51,
   "id": "bcbd627c-5382-4fc0-a49e-902af57ea0f6",
   "metadata": {},
   "outputs": [
    {
     "name": "stdout",
     "output_type": "stream",
     "text": [
      "Concatenated DataFrame:\n",
      "   Id  Score_A  Score_B\n",
      "0   1     70.0      NaN\n",
      "1   2     90.0      NaN\n",
      "2   3     85.0      NaN\n",
      "0   4      NaN     62.0\n",
      "1   5      NaN     91.0\n",
      "2   6      NaN     75.0\n"
     ]
    }
   ],
   "source": [
    "#Câu b: Nối DataFrame theo chiều dọc\n",
    "\n",
    "df_concat = pd.concat([df1, df2], axis=0)\n",
    "print(\"Concatenated DataFrame:\")\n",
    "print(df_concat)\n"
   ]
  },
  {
   "cell_type": "code",
   "execution_count": 52,
   "id": "191a8de0-f0a0-4436-9b3d-a5a53f6a0aaf",
   "metadata": {},
   "outputs": [
    {
     "data": {
      "text/html": [
       "<div>\n",
       "<style scoped>\n",
       "    .dataframe tbody tr th:only-of-type {\n",
       "        vertical-align: middle;\n",
       "    }\n",
       "\n",
       "    .dataframe tbody tr th {\n",
       "        vertical-align: top;\n",
       "    }\n",
       "\n",
       "    .dataframe thead th {\n",
       "        text-align: right;\n",
       "    }\n",
       "</style>\n",
       "<table border=\"1\" class=\"dataframe\">\n",
       "  <thead>\n",
       "    <tr style=\"text-align: right;\">\n",
       "      <th></th>\n",
       "      <th>Id</th>\n",
       "      <th>Score_A</th>\n",
       "      <th>Score_B</th>\n",
       "    </tr>\n",
       "  </thead>\n",
       "  <tbody>\n",
       "    <tr>\n",
       "      <th>0</th>\n",
       "      <td>1</td>\n",
       "      <td>70.0</td>\n",
       "      <td>NaN</td>\n",
       "    </tr>\n",
       "    <tr>\n",
       "      <th>1</th>\n",
       "      <td>2</td>\n",
       "      <td>90.0</td>\n",
       "      <td>NaN</td>\n",
       "    </tr>\n",
       "    <tr>\n",
       "      <th>2</th>\n",
       "      <td>3</td>\n",
       "      <td>85.0</td>\n",
       "      <td>NaN</td>\n",
       "    </tr>\n",
       "    <tr>\n",
       "      <th>3</th>\n",
       "      <td>4</td>\n",
       "      <td>NaN</td>\n",
       "      <td>62.0</td>\n",
       "    </tr>\n",
       "    <tr>\n",
       "      <th>4</th>\n",
       "      <td>5</td>\n",
       "      <td>NaN</td>\n",
       "      <td>91.0</td>\n",
       "    </tr>\n",
       "    <tr>\n",
       "      <th>5</th>\n",
       "      <td>6</td>\n",
       "      <td>NaN</td>\n",
       "      <td>75.0</td>\n",
       "    </tr>\n",
       "  </tbody>\n",
       "</table>\n",
       "</div>"
      ],
      "text/plain": [
       "   Id  Score_A  Score_B\n",
       "0   1     70.0      NaN\n",
       "1   2     90.0      NaN\n",
       "2   3     85.0      NaN\n",
       "3   4      NaN     62.0\n",
       "4   5      NaN     91.0\n",
       "5   6      NaN     75.0"
      ]
     },
     "execution_count": 52,
     "metadata": {},
     "output_type": "execute_result"
    }
   ],
   "source": [
    "#Câu c: Gộp df1 và df2 để điền giá trị thiếu\n",
    "\n",
    "# Gộp df1 và df2 theo chiều dọc\n",
    "df1.set_index(\"Id\").combine_first(df2.set_index(\"Id\")).reset_index()\n",
    "\n",
    "# # Điền các giá trị thiếu bằng cách sử dụng phương thức fillna\n",
    "# df_combined_filled = df_combined.fillna(method='ffill')  \n",
    "# print(\"Gộp và điền giá trị thiếu:\")\n",
    "# df_combined_filled\n"
   ]
  },
  {
   "cell_type": "code",
   "execution_count": 53,
   "id": "1e24d76e-4c53-47a9-89a1-0f3081f6f0d6",
   "metadata": {},
   "outputs": [
    {
     "data": {
      "text/html": [
       "<div>\n",
       "<style scoped>\n",
       "    .dataframe tbody tr th:only-of-type {\n",
       "        vertical-align: middle;\n",
       "    }\n",
       "\n",
       "    .dataframe tbody tr th {\n",
       "        vertical-align: top;\n",
       "    }\n",
       "\n",
       "    .dataframe thead th {\n",
       "        text-align: right;\n",
       "    }\n",
       "</style>\n",
       "<table border=\"1\" class=\"dataframe\">\n",
       "  <thead>\n",
       "    <tr style=\"text-align: right;\">\n",
       "      <th></th>\n",
       "      <th>ID</th>\n",
       "      <th>Value</th>\n",
       "    </tr>\n",
       "  </thead>\n",
       "  <tbody>\n",
       "    <tr>\n",
       "      <th>0</th>\n",
       "      <td>1</td>\n",
       "      <td>35</td>\n",
       "    </tr>\n",
       "    <tr>\n",
       "      <th>1</th>\n",
       "      <td>2</td>\n",
       "      <td>97</td>\n",
       "    </tr>\n",
       "    <tr>\n",
       "      <th>2</th>\n",
       "      <td>3</td>\n",
       "      <td>54</td>\n",
       "    </tr>\n",
       "    <tr>\n",
       "      <th>3</th>\n",
       "      <td>4</td>\n",
       "      <td>98</td>\n",
       "    </tr>\n",
       "    <tr>\n",
       "      <th>4</th>\n",
       "      <td>5</td>\n",
       "      <td>38</td>\n",
       "    </tr>\n",
       "    <tr>\n",
       "      <th>...</th>\n",
       "      <td>...</td>\n",
       "      <td>...</td>\n",
       "    </tr>\n",
       "    <tr>\n",
       "      <th>999995</th>\n",
       "      <td>999996</td>\n",
       "      <td>12</td>\n",
       "    </tr>\n",
       "    <tr>\n",
       "      <th>999996</th>\n",
       "      <td>999997</td>\n",
       "      <td>46</td>\n",
       "    </tr>\n",
       "    <tr>\n",
       "      <th>999997</th>\n",
       "      <td>999998</td>\n",
       "      <td>10</td>\n",
       "    </tr>\n",
       "    <tr>\n",
       "      <th>999998</th>\n",
       "      <td>999999</td>\n",
       "      <td>58</td>\n",
       "    </tr>\n",
       "    <tr>\n",
       "      <th>999999</th>\n",
       "      <td>1000000</td>\n",
       "      <td>43</td>\n",
       "    </tr>\n",
       "  </tbody>\n",
       "</table>\n",
       "<p>1000000 rows × 2 columns</p>\n",
       "</div>"
      ],
      "text/plain": [
       "             ID  Value\n",
       "0             1     35\n",
       "1             2     97\n",
       "2             3     54\n",
       "3             4     98\n",
       "4             5     38\n",
       "...         ...    ...\n",
       "999995   999996     12\n",
       "999996   999997     46\n",
       "999997   999998     10\n",
       "999998   999999     58\n",
       "999999  1000000     43\n",
       "\n",
       "[1000000 rows x 2 columns]"
      ]
     },
     "execution_count": 53,
     "metadata": {},
     "output_type": "execute_result"
    }
   ],
   "source": [
    "#cho dữ liệu sau:\n",
    "\n",
    "\n",
    "# Tạo DataFrame với dữ liệu\n",
    "data = pd.DataFrame({\n",
    "    \"ID\": range(1, 1000001),  # ID từ 1 đến 1000000\n",
    "    \"Value\": np.random.randint(1, 100,1000000)  # Giá trị ngẫu nhiên từ 1 đến 100\n",
    "})\n",
    "\n",
    "data"
   ]
  },
  {
   "cell_type": "code",
   "execution_count": 54,
   "id": "f5eba81e-f2b0-4d34-9e5f-4ad6f20bcb6f",
   "metadata": {},
   "outputs": [
    {
     "name": "stdout",
     "output_type": "stream",
     "text": [
      "Bộ nhớ trước khi tối ưu hóa:\n",
      "Index        132\n",
      "ID       8000000\n",
      "Value    4000000\n",
      "dtype: int64\n"
     ]
    }
   ],
   "source": [
    "#Câu 1: Dùng .astype để tối ưu hóa bộ nhớ\n",
    "\n",
    "#Kiểm tra bộ nhớ trước khi thay đổi kiểu dữ liệu\n",
    "print(\"Bộ nhớ trước khi tối ưu hóa:\")\n",
    "print(data.memory_usage(deep=True))"
   ]
  },
  {
   "cell_type": "code",
   "execution_count": 55,
   "id": "c7d02d6b-a773-463f-b5dd-1eaeab4fd2cf",
   "metadata": {},
   "outputs": [
    {
     "name": "stdout",
     "output_type": "stream",
     "text": [
      "\n",
      "Bộ nhớ sau khi tối ưu hóa:\n",
      "Index        132\n",
      "ID       4000000\n",
      "Value    1000000\n",
      "dtype: int64\n"
     ]
    }
   ],
   "source": [
    "# Tối ưu hóa bộ nhớ bằng cách thay đổi kiểu dữ liệu\n",
    "data[\"ID\"] = data[\"ID\"].astype(\"int32\")\n",
    "data[\"Value\"] = data[\"Value\"].astype(\"int8\")\n",
    "\n",
    "# Kiểm tra bộ nhớ sau khi thay đổi kiểu dữ liệu\n",
    "print(\"\\nBộ nhớ sau khi tối ưu hóa:\")\n",
    "print(data.memory_usage(deep=True))"
   ]
  },
  {
   "cell_type": "code",
   "execution_count": 56,
   "id": "846ca141-937a-44c8-b545-0f1234fb3f6c",
   "metadata": {},
   "outputs": [
    {
     "name": "stdout",
     "output_type": "stream",
     "text": [
      "Value\n",
      "78    10394\n",
      "17    10356\n",
      "44    10310\n",
      "34    10275\n",
      "93    10252\n",
      "Name: count, dtype: int64\n"
     ]
    }
   ],
   "source": [
    "#Câu 2: tìm 5 giá trị phổ biến trong cột value\n",
    "\n",
    "top_5_values = data['Value'].value_counts().head(5)\n",
    "\n",
    "print(top_5_values)\n"
   ]
  },
  {
   "cell_type": "code",
   "execution_count": 57,
   "id": "e61b2d61-90f3-46c3-ac15-2aab42b56a1f",
   "metadata": {},
   "outputs": [
    {
     "data": {
      "text/html": [
       "<div>\n",
       "<style scoped>\n",
       "    .dataframe tbody tr th:only-of-type {\n",
       "        vertical-align: middle;\n",
       "    }\n",
       "\n",
       "    .dataframe tbody tr th {\n",
       "        vertical-align: top;\n",
       "    }\n",
       "\n",
       "    .dataframe thead th {\n",
       "        text-align: right;\n",
       "    }\n",
       "</style>\n",
       "<table border=\"1\" class=\"dataframe\">\n",
       "  <thead>\n",
       "    <tr style=\"text-align: right;\">\n",
       "      <th></th>\n",
       "      <th>ID</th>\n",
       "      <th>Value</th>\n",
       "    </tr>\n",
       "  </thead>\n",
       "  <tbody>\n",
       "    <tr>\n",
       "      <th>1</th>\n",
       "      <td>2</td>\n",
       "      <td>97</td>\n",
       "    </tr>\n",
       "    <tr>\n",
       "      <th>3</th>\n",
       "      <td>4</td>\n",
       "      <td>98</td>\n",
       "    </tr>\n",
       "    <tr>\n",
       "      <th>13</th>\n",
       "      <td>14</td>\n",
       "      <td>99</td>\n",
       "    </tr>\n",
       "    <tr>\n",
       "      <th>17</th>\n",
       "      <td>18</td>\n",
       "      <td>98</td>\n",
       "    </tr>\n",
       "    <tr>\n",
       "      <th>25</th>\n",
       "      <td>26</td>\n",
       "      <td>99</td>\n",
       "    </tr>\n",
       "    <tr>\n",
       "      <th>...</th>\n",
       "      <td>...</td>\n",
       "      <td>...</td>\n",
       "    </tr>\n",
       "    <tr>\n",
       "      <th>999937</th>\n",
       "      <td>999938</td>\n",
       "      <td>99</td>\n",
       "    </tr>\n",
       "    <tr>\n",
       "      <th>999942</th>\n",
       "      <td>999943</td>\n",
       "      <td>99</td>\n",
       "    </tr>\n",
       "    <tr>\n",
       "      <th>999944</th>\n",
       "      <td>999945</td>\n",
       "      <td>94</td>\n",
       "    </tr>\n",
       "    <tr>\n",
       "      <th>999970</th>\n",
       "      <td>999971</td>\n",
       "      <td>93</td>\n",
       "    </tr>\n",
       "    <tr>\n",
       "      <th>999977</th>\n",
       "      <td>999978</td>\n",
       "      <td>99</td>\n",
       "    </tr>\n",
       "  </tbody>\n",
       "</table>\n",
       "<p>90912 rows × 2 columns</p>\n",
       "</div>"
      ],
      "text/plain": [
       "            ID  Value\n",
       "1            2     97\n",
       "3            4     98\n",
       "13          14     99\n",
       "17          18     98\n",
       "25          26     99\n",
       "...        ...    ...\n",
       "999937  999938     99\n",
       "999942  999943     99\n",
       "999944  999945     94\n",
       "999970  999971     93\n",
       "999977  999978     99\n",
       "\n",
       "[90912 rows x 2 columns]"
      ]
     },
     "execution_count": 57,
     "metadata": {},
     "output_type": "execute_result"
    }
   ],
   "source": [
    "#Câu 3:sử dụng query để lọc dữ liệu nhanh hơn df[df[\"Value\"] > 90]\n",
    "data.query(\"Value > 90\")"
   ]
  },
  {
   "cell_type": "markdown",
   "id": "c1d0a393-c759-4eb9-84fe-fd325996a230",
   "metadata": {},
   "source": [
    "### 1.3 Matplotlib"
   ]
  },
  {
   "cell_type": "code",
   "execution_count": 58,
   "id": "cfda690b-a775-4e9a-839e-c81a3a0b030f",
   "metadata": {},
   "outputs": [],
   "source": [
    "# Biểu đồ nhiều đường\n",
    "\n",
    "#Cho dữ liệu sau\n",
    "import matplotlib.pyplot as plt\n",
    "import numpy as np\n",
    "\n",
    "t = np.linspace(0, 10, 100)\n",
    "y1 = np.sin(t)\n",
    "y2 = np.cos(t)\n",
    "y3 = np.sin(t) * np.cos(t)"
   ]
  },
  {
   "cell_type": "code",
   "execution_count": 59,
   "id": "a707de6b-565b-4080-8a28-4c6cf868add1",
   "metadata": {},
   "outputs": [
    {
     "data": {
      "image/png": "[encoded data removed]",
      "text/plain": [
       "<Figure size 640x480 with 1 Axes>"
      ]
     },
     "metadata": {},
     "output_type": "display_data"
    }
   ],
   "source": [
    "#tạo biểu đồ đường theo thời gian\n",
    "# Vẽ biểu đồ\n",
    "plt.plot(t, y1, label='sin(t)')\n",
    "plt.plot(t, y2, label='cos(t)')\n",
    "plt.plot(t, y3, label='sin(t) * cos(t)')\n",
    "\n",
    "\n",
    "plt.title(\"Biểu đồ nhiều đường theo thời gian\")\n",
    "plt.xlabel(\"Thời gian (t)\")\n",
    "plt.ylabel(\"Giá trị\")\n",
    "\n",
    "\n",
    "plt.legend()\n",
    "\n",
    "\n",
    "plt.show()\n"
   ]
  },
  {
   "cell_type": "code",
   "execution_count": 60,
   "id": "8f8aa252-de7d-4ed8-9eea-d32ab683368b",
   "metadata": {},
   "outputs": [],
   "source": [
    "# biểu đồ thanh nhóm\n",
    "# cho dữ liệu sau\n",
    "labels = [\"Q1\",\"Q2\",\"Q3\",\"Q4\"]\n",
    "A = [500,700,800,600]\n",
    "B = [450,350,650,750]\n",
    "C = [500,250,850,600]"
   ]
  },
  {
   "cell_type": "code",
   "execution_count": 61,
   "id": "83e80134-2577-4d28-bfdf-c7a1dec1650c",
   "metadata": {},
   "outputs": [
    {
     "data": {
      "image/png": "[encoded data removed]",
      "text/plain": [
       "<Figure size 640x480 with 1 Axes>"
      ]
     },
     "metadata": {},
     "output_type": "display_data"
    }
   ],
   "source": [
    "#Vẽ biểu đồ thanh nhóm thể hiện doanh thu của A, B, C trong 4 quý\n",
    "\n",
    "# Vẽ biểu đồ thanh nhóm\n",
    "x = np.arange(len(labels))  # Tạo các vị trí cho các quý\n",
    "width = 0.2  # Độ rộng của mỗi thanh\n",
    "\n",
    "fig, ax = plt.subplots()\n",
    "\n",
    "# Vẽ 3 nhóm thanh cho A, B, C\n",
    "ax.bar(x - width, A, width, label='A', color='#ff9999')\n",
    "ax.bar(x, B, width, label='B', color='#66b3ff')\n",
    "ax.bar(x + width, C, width, label='C', color='#99ff99')\n",
    "\n",
    "# Thêm nhãn và tiêu đề\n",
    "ax.set_xlabel('Quý')\n",
    "ax.set_ylabel('Doanh thu')\n",
    "ax.set_title('Doanh thu của A, B, C trong 4 quý')\n",
    "ax.set_xticks(x)\n",
    "ax.set_xticklabels(labels)\n",
    "ax.legend()\n",
    "\n",
    "plt.show()\n"
   ]
  },
  {
   "cell_type": "markdown",
   "id": "47f3e87e-b973-4545-8bd5-f67b1d922fba",
   "metadata": {},
   "source": [
    "**Link Git**\n",
    "**https://github.com/Cuong2k42004/So_hoa_QuanTri_ThongTin_So**"
   ]
  },
  {
   "cell_type": "code",
   "execution_count": null,
   "id": "c257ff8b-87b2-42b9-aeee-284f1963ee1e",
   "metadata": {},
   "outputs": [],
   "source": []
  }
 ],
 "metadata": {
  "kernelspec": {
   "display_name": "Python 3 (ipykernel)",
   "language": "python",
   "name": "python3"
  },
  "language_info": {
   "codemirror_mode": {
    "name": "ipython",
    "version": 3
   },
   "file_extension": ".py",
   "mimetype": "text/x-python",
   "name": "python",
   "nbconvert_exporter": "python",
   "pygments_lexer": "ipython3",
   "version": "3.12.2"
  }
 },
 "nbformat": 4,
 "nbformat_minor": 5
}
