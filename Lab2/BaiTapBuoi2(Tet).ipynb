{
 "cells": [
  {
   "cell_type": "code",
   "execution_count": 21,
   "id": "136dbea6-b592-4ebb-a97c-c50f95eb9951",
   "metadata": {},
   "outputs": [],
   "source": [
    "#Bài tập tết về nhà\n",
    "# Cho ma trận sau = [\n",
    "#     [99,99,99],\n",
    "#     [99,99,99],\n",
    "#     [99,99,99]\n",
    "# ]\n",
    "# giả sử 0 = O và 1 là X\n",
    "# nhận đầu vào từ phía X và O luân phiên\n",
    "# Cho các bạn 1 cặp chỉ số\n",
    "# Nếu phía x nhập ((0,0)) thì ma trận trở thành\n",
    "#[\n",
    "#     [x,99,99],\n",
    "#     [99,99,99],\n",
    "#     [99,99,99]\n",
    "#]\n",
    "# nếu phía O nhập ((0,0)) thì yêu cầu nhập laijvaf nếu không thì điền vào ma trận\n",
    "# thử thách của các bạn ở nhà ăn tết: nếu ai đó có ba ô liên tiếp thì dừng trò chơi"
   ]
  },
  {
   "cell_type": "code",
   "execution_count": 2,
   "id": "82da001f-e52d-426c-b6fe-7dd409635cbc",
   "metadata": {},
   "outputs": [
    {
     "name": "stdout",
     "output_type": "stream",
     "text": [
      "Người chơi X đi trước\n",
      "Nhập vị trí theo định dạng: hàng,cột (0-2)\n",
      "\n",
      "Lượt của người chơi X\n",
      "_ _ _ \n",
      "_ _ _ \n",
      "_ _ _ \n"
     ]
    },
    {
     "name": "stdin",
     "output_type": "stream",
     "text": [
      "Nhập vị trí (hàng,cột), ví dụ '0,0':  2,0\n"
     ]
    },
    {
     "name": "stdout",
     "output_type": "stream",
     "text": [
      "\n",
      "Lượt của người chơi O\n",
      "_ _ _ \n",
      "_ _ _ \n",
      "X _ _ \n"
     ]
    },
    {
     "name": "stdin",
     "output_type": "stream",
     "text": [
      "Nhập vị trí (hàng,cột), ví dụ '0,0':  1,0\n"
     ]
    },
    {
     "name": "stdout",
     "output_type": "stream",
     "text": [
      "\n",
      "Lượt của người chơi X\n",
      "_ _ _ \n",
      "O _ _ \n",
      "X _ _ \n"
     ]
    },
    {
     "name": "stdin",
     "output_type": "stream",
     "text": [
      "Nhập vị trí (hàng,cột), ví dụ '0,0':  1,1\n"
     ]
    },
    {
     "name": "stdout",
     "output_type": "stream",
     "text": [
      "\n",
      "Lượt của người chơi O\n",
      "_ _ _ \n",
      "O X _ \n",
      "X _ _ \n"
     ]
    },
    {
     "name": "stdin",
     "output_type": "stream",
     "text": [
      "Nhập vị trí (hàng,cột), ví dụ '0,0':  1,2\n"
     ]
    },
    {
     "name": "stdout",
     "output_type": "stream",
     "text": [
      "\n",
      "Lượt của người chơi X\n",
      "_ _ _ \n",
      "O X O \n",
      "X _ _ \n"
     ]
    },
    {
     "name": "stdin",
     "output_type": "stream",
     "text": [
      "Nhập vị trí (hàng,cột), ví dụ '0,0':  0,2\n"
     ]
    },
    {
     "name": "stdout",
     "output_type": "stream",
     "text": [
      "_ _ X \n",
      "O X O \n",
      "X _ _ \n",
      "\n",
      "Người chơi X thắng! \n"
     ]
    }
   ],
   "source": [
    "def print_board(board):\n",
    "    for row in board:\n",
    "        for cell in row:\n",
    "            if cell == 99:\n",
    "                print(\"_\", end=\" \")\n",
    "            else:\n",
    "                print(cell, end=\" \")\n",
    "        print()\n",
    "\n",
    "def check_winner(board):\n",
    "    # Kiểm tra hàng ngang\n",
    "    for row in board:\n",
    "        if row.count(row[0]) == 3 and row[0] != 99:\n",
    "            return True\n",
    "    \n",
    "    # Kiểm tra hàng dọc\n",
    "    for col in range(3):\n",
    "        if board[0][col] == board[1][col] == board[2][col] != 99:\n",
    "            return True\n",
    "    \n",
    "    # Kiểm tra đường chéo\n",
    "    if board[0][0] == board[1][1] == board[2][2] != 99:\n",
    "        return True\n",
    "    if board[0][2] == board[1][1] == board[2][0] != 99:\n",
    "        return True\n",
    "    \n",
    "    return False\n",
    "\n",
    "def is_valid_move(board, row, col):\n",
    "    if 0 <= row <= 2 and 0 <= col <= 2:\n",
    "        return board[row][col] == 99\n",
    "    return False\n",
    "\n",
    "def play_game():\n",
    "    # Khởi tạo bàn cờ\n",
    "    board = [\n",
    "        [99, 99, 99],\n",
    "        [99, 99, 99],\n",
    "        [99, 99, 99]\n",
    "    ]\n",
    "    \n",
    "    current_player = 'X'  # X đi trước\n",
    "    moves = 0\n",
    "    \n",
    "    while True:\n",
    "        print(f\"\\nLượt của người chơi {current_player}\")\n",
    "        print_board(board)\n",
    "        \n",
    "        try:\n",
    "            # Nhận input từ người chơi\n",
    "            row, col = map(int, input(\"Nhập vị trí (hàng,cột), ví dụ '0,0': \").split(','))\n",
    "            \n",
    "            # Kiểm tra nước đi hợp lệ\n",
    "            if not is_valid_move(board, row, col):\n",
    "                print(\"Nước đi không hợp lệ! Vui lòng thử lại.\")\n",
    "                continue\n",
    "            \n",
    "            # Cập nhật bàn cờ\n",
    "            board[row][col] = current_player\n",
    "            moves += 1\n",
    "            \n",
    "            # Kiểm tra người thắng\n",
    "            if check_winner(board):\n",
    "                print_board(board)\n",
    "                print(f\"\\nNgười chơi {current_player} thắng! \")\n",
    "                break\n",
    "            \n",
    "            # Kiểm tra hòa\n",
    "            if moves == 9:\n",
    "                print_board(board)\n",
    "                print(\"\\nHòa!\")\n",
    "                break\n",
    "            \n",
    "            # Đổi lượt chơi\n",
    "            current_player = 'O' if current_player == 'X' else 'X'\n",
    "            \n",
    "        except ValueError:\n",
    "            print(\"Input không hợp lệ! Vui lòng nhập theo định dạng: hàng,cột\")\n",
    "\n",
    "if __name__ == \"__main__\":\n",
    "    print(\"Người chơi X đi trước\")\n",
    "    print(\"Nhập vị trí theo định dạng: hàng,cột (0-2)\")\n",
    "    play_game()"
   ]
  },
  {
   "cell_type": "code",
   "execution_count": 12,
   "id": "9315af96-0e40-4242-b796-b1a151d1a063",
   "metadata": {},
   "outputs": [],
   "source": [
    "#Bài tập kết numpy\n",
    "\n",
    "# tạo 1 mảng numpy có kích thước 150x5, hãy tưởng tượng mảng này chứ 150 mẫu về chiều cao, cân năng, GPA của sinh viên VLU.\n",
    "\n",
    "# chia mảng bốn cột đầu tiên thành một biến có tên là X và cột cuối cùng thành y\n",
    "\n",
    "# chia X thành x_train và x_test chứa 70% dữ liệu và chia y thành y_train và y_test, trong đố y train chứa 70% dữ liệu.\n",
    "\n",
    "# tạo 10 tập dữ liệu không chồng chéo của X_train"
   ]
  },
  {
   "cell_type": "code",
   "execution_count": 13,
   "id": "fe9635d5-b639-4b87-b401-5a048827dc7a",
   "metadata": {},
   "outputs": [
    {
     "data": {
      "text/plain": [
       "(150, 5)"
      ]
     },
     "execution_count": 13,
     "metadata": {},
     "output_type": "execute_result"
    }
   ],
   "source": [
    "data = np.random.uniform(0,10,(150,5))\n",
    "data.shape"
   ]
  },
  {
   "cell_type": "code",
   "execution_count": 14,
   "id": "99d3607d-435b-434f-bb75-788f1fb8d047",
   "metadata": {},
   "outputs": [
    {
     "data": {
      "text/plain": [
       "((150, 4), (150,))"
      ]
     },
     "execution_count": 14,
     "metadata": {},
     "output_type": "execute_result"
    }
   ],
   "source": [
    "x = data[:, :-1]\n",
    "y = data[:, -1]\n",
    "x.shape, y.shape"
   ]
  },
  {
   "cell_type": "code",
   "execution_count": 15,
   "id": "4c10bad9-0459-4e44-a2ea-24655ce6df24",
   "metadata": {},
   "outputs": [
    {
     "data": {
      "text/plain": [
       "150"
      ]
     },
     "execution_count": 15,
     "metadata": {},
     "output_type": "execute_result"
    }
   ],
   "source": [
    "datatest_size = x.shape[0]\n",
    "datatest_size"
   ]
  },
  {
   "cell_type": "code",
   "execution_count": 16,
   "id": "cc8b7a69-db16-4278-8189-79b64707dae6",
   "metadata": {},
   "outputs": [
    {
     "data": {
      "text/plain": [
       "105"
      ]
     },
     "execution_count": 16,
     "metadata": {},
     "output_type": "execute_result"
    }
   ],
   "source": [
    "train_size = int(0.7*datatest_size)\n",
    "train_size"
   ]
  },
  {
   "cell_type": "code",
   "execution_count": 17,
   "id": "b5d7e8ee-5479-4ab3-a627-75ff803fe9f4",
   "metadata": {},
   "outputs": [
    {
     "data": {
      "text/plain": [
       "((105, 4), (45, 4))"
      ]
     },
     "execution_count": 17,
     "metadata": {},
     "output_type": "execute_result"
    }
   ],
   "source": [
    "x_train = x[:train_size]\n",
    "x_test = x[train_size:]\n",
    "x_train.shape, x_test.shape"
   ]
  },
  {
   "cell_type": "code",
   "execution_count": 18,
   "id": "022c66fd-261b-4441-812f-e9103b38301a",
   "metadata": {},
   "outputs": [
    {
     "data": {
      "text/plain": [
       "10"
      ]
     },
     "execution_count": 18,
     "metadata": {},
     "output_type": "execute_result"
    }
   ],
   "source": [
    "split = x_train.shape[0]//10\n",
    "split"
   ]
  },
  {
   "cell_type": "code",
   "execution_count": 19,
   "id": "cc3ae653-bc3c-44bb-9718-7d27af320719",
   "metadata": {},
   "outputs": [
    {
     "name": "stdout",
     "output_type": "stream",
     "text": [
      "(10, 4)\n",
      "(10, 4)\n",
      "(10, 4)\n",
      "(10, 4)\n",
      "(10, 4)\n",
      "(10, 4)\n",
      "(10, 4)\n",
      "(10, 4)\n",
      "(10, 4)\n",
      "(10, 4)\n",
      "(5, 4)\n"
     ]
    }
   ],
   "source": [
    "for counter in range(0, x_train.shape[0], split):\n",
    "    print(x_train[counter:counter+split].shape)"
   ]
  },
  {
   "cell_type": "markdown",
   "id": "6543ac45-f66f-443d-9de8-5bdcbd3cf005",
   "metadata": {},
   "source": [
    "INPUT, OUT[PUT, NHẠN XÉT CAU KẾT NUMPY"
   ]
  },
  {
   "cell_type": "markdown",
   "id": "3efadb08-fdf7-4190-9f17-d31c7fd3c6a0",
   "metadata": {},
   "source": [
    "## Input:\n",
    "#### - data = np.random.uniform(0, 10, (150, 5)): Dữ liệu đầu vào được tạo ngẫu nhiên với giá trị trong khoảng [0, 10], có kích thước (150, 5), tương ứng với 150 sinh viên và 5 thông số (chiều cao, cân nặng, GPA, v.v.).\n",
    "#### - x = data[:, :-1]: Chia dữ liệu data thành mảng x chứa tất cả các cột trừ cột cuối cùng (tức là các thông số ngoài GPA).\n",
    "#### - y = data[:, -1]: Lấy cột cuối cùng từ data, tương ứng với GPA của sinh viên, và lưu vào y.\n",
    "#### - split = x_train.shape[0] // 10: Chia dữ liệu huấn luyện thành 10 phần nhỏ hơn để thực hiện quá trình kiểm tra mô hình (cross-validation)."
   ]
  },
  {
   "cell_type": "markdown",
   "id": "6755d558-848b-499f-bc3a-6575fd896b93",
   "metadata": {},
   "source": [
    "## Output:\n",
    "#### - (150, 5): Kích thước của dữ liệu data.\n",
    "#### - (150, 4): Kích thước của x (các thông số của sinh viên).\n",
    "#### - (150,): Kích thước của y (GPA của sinh viên).\n",
    "#### - Dữ liệu được chia thành các phần nhỏ hơn: Trong output của vòng lặp for counter in range(0, x_train.shape[0], split):, mỗi phần dữ liệu huấn luyện được in ra có kích thước (10, 4) và cuối cùng là (5, 4)."
   ]
  },
  {
   "cell_type": "markdown",
   "id": "d98577b2-4770-408c-b32e-3c1e4936df35",
   "metadata": {},
   "source": [
    "## Nhận xét:\n",
    "\n",
    "### - Output cho thấy dữ liệu huấn luyện đã được chia thành các phần có kích thước (10, 4) (mỗi phần chứa 10 sinh viên và 4 thông số) và một phần cuối cùng có kích thước nhỏ hơn (5, 4) khi không đủ để chia trọn vẹn thành 10 phần.\n",
    "### - Đoạn mã đang thực hiện quá trình chia nhỏ dữ liệu huấn luyện cho việc kiểm tra mô hình hoặc cross-validation."
   ]
  },
  {
   "cell_type": "markdown",
   "id": "8bd4df4d-79e7-497a-853f-aade3a20b2ec",
   "metadata": {},
   "source": [
    "**Link Git**\n",
    "**https://github.com/Cuong2k42004/So_hoa_QuanTri_ThongTin_So**"
   ]
  },
  {
   "cell_type": "code",
   "execution_count": null,
   "id": "b08de615-fc53-4928-86e5-4eb7f61e612e",
   "metadata": {},
   "outputs": [],
   "source": []
  }
 ],
 "metadata": {
  "kernelspec": {
   "display_name": "Python 3 (ipykernel)",
   "language": "python",
   "name": "python3"
  },
  "language_info": {
   "codemirror_mode": {
    "name": "ipython",
    "version": 3
   },
   "file_extension": ".py",
   "mimetype": "text/x-python",
   "name": "python",
   "nbconvert_exporter": "python",
   "pygments_lexer": "ipython3",
   "version": "3.12.2"
  }
 },
 "nbformat": 4,
 "nbformat_minor": 5
}
