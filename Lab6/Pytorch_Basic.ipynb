{
 "cells": [
  {
   "cell_type": "markdown",
   "id": "93f5e501-9ffa-46d4-97f1-efb084356bdc",
   "metadata": {},
   "source": [
    "## CƠ BẢN VỀ PYTORCH"
   ]
  },
  {
   "cell_type": "code",
   "execution_count": 1,
   "id": "55255c03-b36f-42fd-b276-06785c36cd5a",
   "metadata": {},
   "outputs": [
    {
     "name": "stdout",
     "output_type": "stream",
     "text": [
      "Collecting pytorch\n",
      "  Downloading pytorch-1.0.2.tar.gz (689 bytes)\n",
      "  Preparing metadata (setup.py): started\n",
      "  Preparing metadata (setup.py): finished with status 'done'\n",
      "Building wheels for collected packages: pytorch\n",
      "  Building wheel for pytorch (setup.py): started\n",
      "  Building wheel for pytorch (setup.py): finished with status 'error'\n",
      "  Running setup.py clean for pytorch\n",
      "Failed to build pytorch\n"
     ]
    },
    {
     "name": "stderr",
     "output_type": "stream",
     "text": [
      "  error: subprocess-exited-with-error\n",
      "  \n",
      "  python setup.py bdist_wheel did not run successfully.\n",
      "  exit code: 1\n",
      "  \n",
      "  [6 lines of output]\n",
      "  Traceback (most recent call last):\n",
      "    File \"<string>\", line 2, in <module>\n",
      "    File \"<pip-setuptools-caller>\", line 34, in <module>\n",
      "    File \"C:\\Users\\Laptop\\AppData\\Local\\Temp\\pip-install-rfx89abv\\pytorch_605933bfd3c546358bfe27a213ec99db\\setup.py\", line 15, in <module>\n",
      "      raise Exception(message)\n",
      "  Exception: You tried to install \"pytorch\". The package named for PyTorch is \"torch\"\n",
      "  [end of output]\n",
      "  \n",
      "  note: This error originates from a subprocess, and is likely not a problem with pip.\n",
      "  ERROR: Failed building wheel for pytorch\n",
      "ERROR: Failed to build installable wheels for some pyproject.toml based projects (pytorch)\n"
     ]
    }
   ],
   "source": [
    "!pip install pytorch\n"
   ]
  },
  {
   "cell_type": "code",
   "execution_count": 5,
   "id": "409a52bd-a1d6-44c5-86bc-efcf5dba08c0",
   "metadata": {},
   "outputs": [
    {
     "name": "stdout",
     "output_type": "stream",
     "text": [
      "Requirement already satisfied: torch in c:\\python312\\lib\\site-packages (2.6.0)\n",
      "Requirement already satisfied: torchvision in c:\\python312\\lib\\site-packages (0.21.0)\n",
      "Requirement already satisfied: filelock in c:\\python312\\lib\\site-packages (from torch) (3.17.0)\n",
      "Requirement already satisfied: typing-extensions>=4.10.0 in c:\\python312\\lib\\site-packages (from torch) (4.12.2)\n",
      "Requirement already satisfied: networkx in c:\\python312\\lib\\site-packages (from torch) (3.4.1)\n",
      "Requirement already satisfied: jinja2 in c:\\python312\\lib\\site-packages (from torch) (3.1.4)\n",
      "Requirement already satisfied: fsspec in c:\\python312\\lib\\site-packages (from torch) (2024.12.0)\n",
      "Requirement already satisfied: setuptools in c:\\python312\\lib\\site-packages (from torch) (71.1.0)\n",
      "Requirement already satisfied: sympy==1.13.1 in c:\\python312\\lib\\site-packages (from torch) (1.13.1)\n",
      "Requirement already satisfied: mpmath<1.4,>=1.1.0 in c:\\python312\\lib\\site-packages (from sympy==1.13.1->torch) (1.3.0)\n",
      "Requirement already satisfied: numpy in c:\\python312\\lib\\site-packages (from torchvision) (2.0.2)\n",
      "Requirement already satisfied: pillow!=8.3.*,>=5.3.0 in c:\\python312\\lib\\site-packages (from torchvision) (10.3.0)\n",
      "Requirement already satisfied: MarkupSafe>=2.0 in c:\\python312\\lib\\site-packages (from jinja2->torch) (2.1.5)\n"
     ]
    }
   ],
   "source": [
    "!pip install torch torchvision"
   ]
  },
  {
   "cell_type": "code",
   "execution_count": 10,
   "id": "627b4c71-eac1-4f4e-8d0e-be1328acd8d0",
   "metadata": {},
   "outputs": [
    {
     "name": "stdout",
     "output_type": "stream",
     "text": [
      "Requirement already satisfied: torch in c:\\python312\\lib\\site-packages (2.6.0)\n",
      "Requirement already satisfied: filelock in c:\\python312\\lib\\site-packages (from torch) (3.17.0)\n",
      "Requirement already satisfied: typing-extensions>=4.10.0 in c:\\python312\\lib\\site-packages (from torch) (4.12.2)\n",
      "Requirement already satisfied: networkx in c:\\python312\\lib\\site-packages (from torch) (3.4.1)\n",
      "Requirement already satisfied: jinja2 in c:\\python312\\lib\\site-packages (from torch) (3.1.4)\n",
      "Requirement already satisfied: fsspec in c:\\python312\\lib\\site-packages (from torch) (2024.12.0)\n",
      "Requirement already satisfied: setuptools in c:\\python312\\lib\\site-packages (from torch) (71.1.0)\n",
      "Requirement already satisfied: sympy==1.13.1 in c:\\python312\\lib\\site-packages (from torch) (1.13.1)\n",
      "Requirement already satisfied: mpmath<1.4,>=1.1.0 in c:\\python312\\lib\\site-packages (from sympy==1.13.1->torch) (1.3.0)\n",
      "Requirement already satisfied: MarkupSafe>=2.0 in c:\\python312\\lib\\site-packages (from jinja2->torch) (2.1.5)\n"
     ]
    }
   ],
   "source": [
    "!pip install torch"
   ]
  },
  {
   "cell_type": "code",
   "execution_count": 3,
   "id": "d66b8920-e501-45ba-8a1a-13c7c962ba11",
   "metadata": {},
   "outputs": [],
   "source": [
    "import torch"
   ]
  },
  {
   "cell_type": "code",
   "execution_count": 5,
   "id": "2073f146-11c5-42ae-b1ee-c6d5249e6e98",
   "metadata": {},
   "outputs": [
    {
     "data": {
      "text/plain": [
       "False"
      ]
     },
     "execution_count": 5,
     "metadata": {},
     "output_type": "execute_result"
    }
   ],
   "source": [
    "torch.cuda.is_available()"
   ]
  },
  {
   "cell_type": "markdown",
   "id": "d38544e3-9a78-4330-a51d-b7dc10c90e8a",
   "metadata": {},
   "source": [
    "## Sử dụng GPU và Cuda"
   ]
  },
  {
   "cell_type": "code",
   "execution_count": 6,
   "id": "c4771396-c168-4daf-b7a9-93e1b01713f3",
   "metadata": {},
   "outputs": [
    {
     "data": {
      "text/plain": [
       "<function torch.cuda.current_device() -> int>"
      ]
     },
     "execution_count": 6,
     "metadata": {},
     "output_type": "execute_result"
    }
   ],
   "source": [
    "torch.cuda.current_device"
   ]
  },
  {
   "cell_type": "code",
   "execution_count": null,
   "id": "2688235d-4889-42bf-a6be-34f6bc4a9baa",
   "metadata": {},
   "outputs": [],
   "source": [
    "torch.cuda.get_device_name(0)"
   ]
  },
  {
   "cell_type": "code",
   "execution_count": 8,
   "id": "18b7c8d5-27c7-4e74-995d-eea264980410",
   "metadata": {},
   "outputs": [],
   "source": [
    "#trả về mức sử dụng bộ nhớ gpu hiện tại theo tensors tính bằng byte cho thiết bị"
   ]
  },
  {
   "cell_type": "code",
   "execution_count": 9,
   "id": "436fe72a-abf0-4453-b487-0e12ce0b37db",
   "metadata": {},
   "outputs": [
    {
     "data": {
      "text/plain": [
       "0"
      ]
     },
     "execution_count": 9,
     "metadata": {},
     "output_type": "execute_result"
    }
   ],
   "source": [
    "torch.cuda.memory_allocated()"
   ]
  },
  {
   "cell_type": "code",
   "execution_count": 10,
   "id": "f00db18b-e509-4dbe-9fd5-318866c9ff48",
   "metadata": {},
   "outputs": [],
   "source": [
    "# trả về bộ nhớ GPU hiện tại được quản lý bởi bộ hận bộ nhớ đệm theo byte"
   ]
  },
  {
   "cell_type": "code",
   "execution_count": 11,
   "id": "b1e5b653-c857-4456-854c-937f289805eb",
   "metadata": {},
   "outputs": [
    {
     "name": "stderr",
     "output_type": "stream",
     "text": [
      "C:\\Users\\Laptop\\AppData\\Local\\Temp\\ipykernel_217140\\3499522927.py:1: FutureWarning: `torch.cuda.memory_cached` has been renamed to `torch.cuda.memory_reserved`\n",
      "  torch.cuda.memory_cached()\n"
     ]
    },
    {
     "data": {
      "text/plain": [
       "0"
      ]
     },
     "execution_count": 11,
     "metadata": {},
     "output_type": "execute_result"
    }
   ],
   "source": [
    "torch.cuda.memory_cached()"
   ]
  },
  {
   "cell_type": "code",
   "execution_count": 12,
   "id": "f7bb3a87-51f6-42c9-891a-fdf9d28e2ce5",
   "metadata": {},
   "outputs": [],
   "source": [
    "#dataset with pytorch"
   ]
  },
  {
   "cell_type": "code",
   "execution_count": 17,
   "id": "ee4078f6-fd23-4b09-b5e6-378a90690078",
   "metadata": {},
   "outputs": [],
   "source": [
    "#loading data iris\n",
    "import torch\n",
    "import pandas as pd\n",
    "import numpy as np\n",
    "import matplotlib.pyplot as plt\n"
   ]
  },
  {
   "cell_type": "code",
   "execution_count": 21,
   "id": "bc4f152e-890c-4457-80af-26430c5700d0",
   "metadata": {},
   "outputs": [
    {
     "data": {
      "text/html": [
       "<div>\n",
       "<style scoped>\n",
       "    .dataframe tbody tr th:only-of-type {\n",
       "        vertical-align: middle;\n",
       "    }\n",
       "\n",
       "    .dataframe tbody tr th {\n",
       "        vertical-align: top;\n",
       "    }\n",
       "\n",
       "    .dataframe thead th {\n",
       "        text-align: right;\n",
       "    }\n",
       "</style>\n",
       "<table border=\"1\" class=\"dataframe\">\n",
       "  <thead>\n",
       "    <tr style=\"text-align: right;\">\n",
       "      <th></th>\n",
       "      <th>Id</th>\n",
       "      <th>SepalLengthCm</th>\n",
       "      <th>SepalWidthCm</th>\n",
       "      <th>PetalLengthCm</th>\n",
       "      <th>PetalWidthCm</th>\n",
       "      <th>Species</th>\n",
       "    </tr>\n",
       "  </thead>\n",
       "  <tbody>\n",
       "    <tr>\n",
       "      <th>0</th>\n",
       "      <td>1</td>\n",
       "      <td>5.1</td>\n",
       "      <td>3.5</td>\n",
       "      <td>1.4</td>\n",
       "      <td>0.2</td>\n",
       "      <td>Iris-setosa</td>\n",
       "    </tr>\n",
       "    <tr>\n",
       "      <th>1</th>\n",
       "      <td>2</td>\n",
       "      <td>4.9</td>\n",
       "      <td>3.0</td>\n",
       "      <td>1.4</td>\n",
       "      <td>0.2</td>\n",
       "      <td>Iris-setosa</td>\n",
       "    </tr>\n",
       "    <tr>\n",
       "      <th>2</th>\n",
       "      <td>3</td>\n",
       "      <td>4.7</td>\n",
       "      <td>3.2</td>\n",
       "      <td>1.3</td>\n",
       "      <td>0.2</td>\n",
       "      <td>Iris-setosa</td>\n",
       "    </tr>\n",
       "    <tr>\n",
       "      <th>3</th>\n",
       "      <td>4</td>\n",
       "      <td>4.6</td>\n",
       "      <td>3.1</td>\n",
       "      <td>1.5</td>\n",
       "      <td>0.2</td>\n",
       "      <td>Iris-setosa</td>\n",
       "    </tr>\n",
       "    <tr>\n",
       "      <th>4</th>\n",
       "      <td>5</td>\n",
       "      <td>5.0</td>\n",
       "      <td>3.6</td>\n",
       "      <td>1.4</td>\n",
       "      <td>0.2</td>\n",
       "      <td>Iris-setosa</td>\n",
       "    </tr>\n",
       "  </tbody>\n",
       "</table>\n",
       "</div>"
      ],
      "text/plain": [
       "   Id  SepalLengthCm  SepalWidthCm  PetalLengthCm  PetalWidthCm      Species\n",
       "0   1            5.1           3.5            1.4           0.2  Iris-setosa\n",
       "1   2            4.9           3.0            1.4           0.2  Iris-setosa\n",
       "2   3            4.7           3.2            1.3           0.2  Iris-setosa\n",
       "3   4            4.6           3.1            1.5           0.2  Iris-setosa\n",
       "4   5            5.0           3.6            1.4           0.2  Iris-setosa"
      ]
     },
     "execution_count": 21,
     "metadata": {},
     "output_type": "execute_result"
    }
   ],
   "source": [
    "df = pd.read_csv(\"Iris.csv\")\n",
    "\n",
    "df.head()"
   ]
  },
  {
   "cell_type": "code",
   "execution_count": 23,
   "id": "0bdbf359-61df-48ef-a528-3c4466c746a7",
   "metadata": {},
   "outputs": [
    {
     "data": {
      "text/plain": [
       "(150, 6)"
      ]
     },
     "execution_count": 23,
     "metadata": {},
     "output_type": "execute_result"
    }
   ],
   "source": [
    "df.shape"
   ]
  },
  {
   "cell_type": "code",
   "execution_count": 30,
   "id": "3882ff48-ec6b-4b3c-a85e-97e203030c72",
   "metadata": {},
   "outputs": [],
   "source": [
    "from sklearn.preprocessing import LabelEncoder\n",
    "from sklearn.model_selection import train_test_split\n",
    "\n",
    "le = LabelEncoder()\n",
    "X = df.drop([\"Species\"], axis = 1).values\n",
    "y = le.fit_transform(df[\"Species\"].values)"
   ]
  },
  {
   "cell_type": "code",
   "execution_count": 31,
   "id": "8eaa3a5a-af21-421b-86e8-88a3ff1407bd",
   "metadata": {},
   "outputs": [],
   "source": [
    "#chia dữ liệu test size = 0.2\n",
    "\n",
    "X_train, X_test, y_train, y_test = train_test_split(X, y, test_size=0.2, random_state=42)\n"
   ]
  },
  {
   "cell_type": "code",
   "execution_count": 32,
   "id": "b4008898-97ea-49f7-bda4-f22d0a9c4014",
   "metadata": {},
   "outputs": [],
   "source": [
    "X_train = torch.FloatTensor(X_train)\n",
    "X_test = torch.FloatTensor(X_test)\n",
    "y_train = torch.LongTensor(y_train).reshape(-1,1)\n",
    "y_test = torch.LongTensor(y_test).reshape(-1,1)"
   ]
  },
  {
   "cell_type": "code",
   "execution_count": 35,
   "id": "81468992-a6aa-4931-84f1-e70689d8410a",
   "metadata": {},
   "outputs": [
    {
     "name": "stdout",
     "output_type": "stream",
     "text": [
      "train size 120\n"
     ]
    }
   ],
   "source": [
    "print(f\"train size {len(y_train)}\")"
   ]
  },
  {
   "cell_type": "code",
   "execution_count": 37,
   "id": "4d9a3c56-17a2-4a8a-b787-d6d9e26a31a0",
   "metadata": {},
   "outputs": [
    {
     "name": "stdout",
     "output_type": "stream",
     "text": [
      "tensor([0, 1, 2]) tensor([40, 41, 39])\n"
     ]
    }
   ],
   "source": [
    "label, counts = y_train.unique(return_counts = True)\n",
    "print(label, counts)"
   ]
  },
  {
   "cell_type": "code",
   "execution_count": 38,
   "id": "0252dd2a-fbb1-4189-a962-908e5bcac943",
   "metadata": {},
   "outputs": [],
   "source": [
    "#tính đạo hàm bằng pytorch\n",
    "\n",
    "# cho y = 2x^4 + x^3 + 3x^2 + 5x + 1\n",
    "\n",
    "#tính y'"
   ]
  },
  {
   "cell_type": "code",
   "execution_count": 39,
   "id": "ef71f5f4-dccb-485b-b14e-747ca87e9549",
   "metadata": {},
   "outputs": [],
   "source": [
    "import torch"
   ]
  },
  {
   "cell_type": "code",
   "execution_count": 40,
   "id": "37a11be1-3a63-4083-8a12-e0348e6dadf6",
   "metadata": {},
   "outputs": [
    {
     "name": "stdout",
     "output_type": "stream",
     "text": [
      "tensor(2., requires_grad=True)\n",
      "None\n"
     ]
    }
   ],
   "source": [
    "#tạo một tensor với requirments_grad được đặt thành true\n",
    "x = torch.tensor(2.0, requires_grad = True)\n",
    "print(x)\n",
    "print(x.grad)\n"
   ]
  },
  {
   "cell_type": "code",
   "execution_count": 42,
   "id": "db26650c-b1ba-4efa-8de8-14c9ad1483c6",
   "metadata": {},
   "outputs": [
    {
     "name": "stdout",
     "output_type": "stream",
     "text": [
      "tensor(63., grad_fn=<AddBackward0>)\n"
     ]
    }
   ],
   "source": [
    "#định nghĩa hàm \n",
    "y = 2*x**4 + x**3 + 3*x**2 + 5*x + 1\n",
    "print(y)"
   ]
  },
  {
   "cell_type": "code",
   "execution_count": 43,
   "id": "08daa059-83d9-4d57-9370-5fbea33a90d1",
   "metadata": {},
   "outputs": [
    {
     "data": {
      "text/plain": [
       "<AddBackward0 at 0x275b2541420>"
      ]
     },
     "execution_count": 43,
     "metadata": {},
     "output_type": "execute_result"
    }
   ],
   "source": [
    "y.grad_fn"
   ]
  },
  {
   "cell_type": "code",
   "execution_count": 44,
   "id": "6eba2c87-71a5-4714-a482-7ff473906cd6",
   "metadata": {},
   "outputs": [],
   "source": [
    "#thực hiện truyền ngược và tính toán các gradient\n",
    "y.backward()"
   ]
  },
  {
   "cell_type": "code",
   "execution_count": 45,
   "id": "895641eb-8e06-4466-9c1c-086788c46445",
   "metadata": {},
   "outputs": [
    {
     "data": {
      "text/plain": [
       "tensor(93.)"
      ]
     },
     "execution_count": 45,
     "metadata": {},
     "output_type": "execute_result"
    }
   ],
   "source": [
    "#kết quả đạo hàm\n",
    "x.grad"
   ]
  },
  {
   "cell_type": "code",
   "execution_count": null,
   "id": "4ff2e56f-ba4c-4f85-952e-529a9622e5fc",
   "metadata": {},
   "outputs": [],
   "source": [
    "#Bài tập\n",
    "#tính y' của y = 5x^6 + 3x^3 + 2x^1 + x + 2x + 5x^4 + 1\n",
    "\n",
    "# cho biết độ dốc của đa thức trên tại điểm nào"
   ]
  },
  {
   "cell_type": "code",
   "execution_count": 52,
   "id": "63a54433-c229-4751-a9cb-43a607b0971f",
   "metadata": {},
   "outputs": [
    {
     "name": "stdout",
     "output_type": "stream",
     "text": [
      "Hoành độ (x) = 2.0\n",
      "Tung độ (y) = 435.0\n",
      "Độ dốc tại x = 2.0: 1161.0\n"
     ]
    }
   ],
   "source": [
    "import torch\n",
    "\n",
    "x = torch.tensor(2.0, requires_grad=True)\n",
    "y = 5*x**6 + 3*x**3 + 5*x + 5*x**4 + 1\n",
    "y.backward()\n",
    "\n",
    "print(f\"Hoành độ (x) = {x.item()}\")\n",
    "print(f\"Tung độ (y) = {y.item()}\")\n",
    "print(f\"Độ dốc tại x = {x.item()}: {x.grad.item()}\")"
   ]
  },
  {
   "cell_type": "code",
   "execution_count": 1,
   "id": "ce393f22-cdb7-4d2b-893b-3cfd811b290f",
   "metadata": {},
   "outputs": [
    {
     "name": "stdout",
     "output_type": "stream",
     "text": [
      "Iteration 1: x = -0.5\n",
      "Iteration 2: x = -0.875\n",
      "Iteration 3: x = -1.2546875476837158\n",
      "Iteration 4: x = -1.7250847816467285\n",
      "Iteration 5: x = -2.427826166152954\n",
      "Iteration 6: x = -3.7249975204467773\n",
      "Iteration 7: x = -6.897680282592773\n",
      "Iteration 8: x = -18.912006378173828\n",
      "Iteration 9: x = -119.14640808105469\n",
      "Iteration 10: x = -4330.74755859375\n"
     ]
    }
   ],
   "source": [
    "#BTVN1: Tạo 1 tensor x có giá trị ban đầu là 2.0. Định nghĩa hàm số và tính gradient\n",
    "# y = x^3 + 2x^2 + 5x + 1\n",
    "# hãy tính dy/dx tại giá trị của x\n",
    "# Dùng pp gradient Descent với learning rate alpha = 0.1 để cập nhật giá trị x trong 10 vòng lập \n",
    "\n",
    "import torch\n",
    "x = torch.tensor(2.0, requires_grad=True)\n",
    "\n",
    "# Định nghĩa hàm số\n",
    "def function(x):\n",
    "    return x**3 + 2*x**2 + 5*x + 1\n",
    "    \n",
    "# Learning rate\n",
    "alpha = 0.1\n",
    "\n",
    "# Số vòng lặp\n",
    "num_iterations = 10\n",
    "\n",
    "# Gradient Descent\n",
    "for i in range(num_iterations):\n",
    "    # Tính giá trị hàm số\n",
    "    y = function(x)\n",
    "    \n",
    "    # Tính gradient\n",
    "    y.backward()\n",
    "    \n",
    "    # Cập nhật giá trị của x\n",
    "    with torch.no_grad():\n",
    "        x -= alpha * x.grad\n",
    "    \n",
    "    # Xóa gradient cũ\n",
    "    x.grad.zero_()\n",
    "    \n",
    "    print(f\"Iteration {i+1}: x = {x.item()}\")\n"
   ]
  },
  {
   "cell_type": "code",
   "execution_count": 2,
   "id": "61111c37-0bbf-405b-aa8a-8d13a4ca59d0",
   "metadata": {},
   "outputs": [],
   "source": [
    "#BTVN2: TẠO một tập dữ liệu giả lập với x là số giờ học ngẫu nhiên từ 1 - 10 và y là số điểm được tính theo công thức y = 3x + 5 + noise\n",
    "# Với noise là một giá trị ngẫu nhiên nhỏ\n",
    "#Câu 1. khởi tạo tham số w và b ngẫu nhiên với requires_grad = true\n",
    "#Câu 2. tính MSE\n",
    "#Câu 3. tính gradient\n",
    "#Câu 4. cập nhật tham số w và b bằng gradient descent với Learning rate alpha = 0.01\n",
    "#Câu 5. lặp lại quá trình trên trong vòng 100 vòng lặp và quan sát sự hội tụ của mô hình"
   ]
  },
  {
   "cell_type": "code",
   "execution_count": 3,
   "id": "b0f08de5-09b6-43c6-ba11-e6c142f534a1",
   "metadata": {},
   "outputs": [
    {
     "name": "stdout",
     "output_type": "stream",
     "text": [
      "Iteration 10: Loss = 4.913052082061768, w = 3.62794828414917, b = 0.8186150193214417\n",
      "Iteration 20: Loss = 4.594837188720703, w = 3.6011240482330322, b = 0.9944151639938354\n",
      "Iteration 30: Loss = 4.301281929016113, w = 3.5753440856933594, b = 1.1632639169692993\n",
      "Iteration 40: Loss = 4.030473709106445, w = 3.5505833625793457, b = 1.3254389762878418\n",
      "Iteration 50: Loss = 3.780651330947876, w = 3.526801586151123, b = 1.4812036752700806\n",
      "Iteration 60: Loss = 3.550187110900879, w = 3.5039594173431396, b = 1.6308115720748901\n",
      "Iteration 70: Loss = 3.3375821113586426, w = 3.482020378112793, b = 1.7745059728622437\n",
      "Iteration 80: Loss = 3.1414523124694824, w = 3.4609484672546387, b = 1.9125205278396606\n",
      "Iteration 90: Loss = 2.9605214595794678, w = 3.440709352493286, b = 2.0450797080993652\n",
      "Iteration 100: Loss = 2.793609857559204, w = 3.4212703704833984, b = 2.1723995208740234\n"
     ]
    }
   ],
   "source": [
    "import torch\n",
    "import numpy as np\n",
    "import matplotlib.pyplot as plt\n",
    "\n",
    "# Tạo dữ liệu giả lập\n",
    "np.random.seed(42)\n",
    "torch.manual_seed(42)\n",
    "x_data = torch.tensor(np.random.uniform(1, 10, 100), dtype=torch.float32)\n",
    "noise = torch.tensor(np.random.normal(0, 1, 100), dtype=torch.float32)\n",
    "y_data = 3 * x_data + 5 + noise\n",
    "\n",
    "# Câu 1: Khởi tạo tham số w và b ngẫu nhiên\n",
    "w = torch.randn(1, requires_grad=True)\n",
    "b = torch.randn(1, requires_grad=True)\n",
    "\n",
    "# Learning rate\n",
    "alpha = 0.01\n",
    "num_iterations = 100\n",
    "\n",
    "# Lưu loss để quan sát sự hội tụ\n",
    "loss_history = []\n",
    "\n",
    "# Gradient Descent\n",
    "for i in range(num_iterations):\n",
    "    # Câu 2: Tính MSE\n",
    "    y_pred = w * x_data + b\n",
    "    loss = torch.mean((y_pred - y_data) ** 2)\n",
    "    \n",
    "    # Câu 3: Tính gradient\n",
    "    loss.backward()\n",
    "    \n",
    "    # Câu 4: Cập nhật tham số w và b\n",
    "    with torch.no_grad():\n",
    "        w -= alpha * w.grad\n",
    "        b -= alpha * b.grad\n",
    "    \n",
    "    # Xóa gradient cũ\n",
    "    w.grad.zero_()\n",
    "    b.grad.zero_()\n",
    "    \n",
    "    loss_history.append(loss.item())\n",
    "    \n",
    "    if (i+1) % 10 == 0:\n",
    "        print(f\"Iteration {i+1}: Loss = {loss.item()}, w = {w.item()}, b = {b.item()}\")"
   ]
  },
  {
   "cell_type": "code",
   "execution_count": 4,
   "id": "b1b778d8-db6e-4343-8876-98f882392328",
   "metadata": {},
   "outputs": [
    {
     "data": {
      "image/png": "[encoded data removed]",
      "text/plain": [
       "<Figure size 640x480 with 1 Axes>"
      ]
     },
     "metadata": {},
     "output_type": "display_data"
    }
   ],
   "source": [
    "# Câu 5: Vẽ biểu đồ hội tụ của mô hình\n",
    "plt.plot(range(num_iterations), loss_history, label='Loss')\n",
    "plt.xlabel('Iteration')\n",
    "plt.ylabel('Loss')\n",
    "plt.title('Loss Convergence')\n",
    "plt.legend()\n",
    "plt.show()"
   ]
  },
  {
   "cell_type": "markdown",
   "id": "3f180c7f-495f-4d43-8fe0-ddc3c2150a9e",
   "metadata": {},
   "source": [
    "## Pytorch with tensor"
   ]
  },
  {
   "cell_type": "code",
   "execution_count": 55,
   "id": "31a216e5-9549-4ba7-aefa-9d89cbb058db",
   "metadata": {},
   "outputs": [],
   "source": [
    "import torch\n",
    "import numpy as np"
   ]
  },
  {
   "cell_type": "code",
   "execution_count": 56,
   "id": "82b554fa-e590-4ad7-b162-f382f1294eb9",
   "metadata": {},
   "outputs": [
    {
     "data": {
      "text/plain": [
       "'2.6.0+cpu'"
      ]
     },
     "execution_count": 56,
     "metadata": {},
     "output_type": "execute_result"
    }
   ],
   "source": [
    "torch.__version__"
   ]
  },
  {
   "cell_type": "markdown",
   "id": "f3398dc8-b38c-49bd-bfb9-e99d8c4e0b89",
   "metadata": {},
   "source": [
    "## chuyển đổi mảng numpy sang tensor pytorch"
   ]
  },
  {
   "cell_type": "code",
   "execution_count": 57,
   "id": "44f8b502-a54f-48c3-b476-b8ae13629d7c",
   "metadata": {},
   "outputs": [
    {
     "name": "stdout",
     "output_type": "stream",
     "text": [
      "[1 2 3 4 5]\n",
      "int64\n",
      "<class 'numpy.ndarray'>\n"
     ]
    }
   ],
   "source": [
    "arr = np.array([1,2,3,4,5])\n",
    "print(arr)\n",
    "print(arr.dtype)\n",
    "print(type(arr))"
   ]
  },
  {
   "cell_type": "code",
   "execution_count": 58,
   "id": "308bddb6-4422-413e-92f5-cce9af793044",
   "metadata": {},
   "outputs": [
    {
     "name": "stdout",
     "output_type": "stream",
     "text": [
      "tensor([1, 2, 3, 4, 5])\n"
     ]
    }
   ],
   "source": [
    "x = torch.from_numpy(arr)\n",
    "print(x)"
   ]
  },
  {
   "cell_type": "code",
   "execution_count": 59,
   "id": "ae11e53f-2c5f-48a3-a647-bf7b78aef3bc",
   "metadata": {},
   "outputs": [
    {
     "name": "stdout",
     "output_type": "stream",
     "text": [
      "torch.int64\n"
     ]
    }
   ],
   "source": [
    "print(x.dtype)"
   ]
  },
  {
   "cell_type": "code",
   "execution_count": 60,
   "id": "b2ab446d-78b1-4914-9245-fac5747d9db9",
   "metadata": {},
   "outputs": [
    {
     "name": "stdout",
     "output_type": "stream",
     "text": [
      "torch.LongTensor\n"
     ]
    }
   ],
   "source": [
    "print(x.type())"
   ]
  },
  {
   "cell_type": "code",
   "execution_count": 66,
   "id": "314cbe4e-34d4-488a-b51b-9fe1042fea7d",
   "metadata": {},
   "outputs": [
    {
     "data": {
      "text/plain": [
       "array([[ 0.,  1.,  2.],\n",
       "       [ 3.,  4.,  5.],\n",
       "       [ 6.,  7.,  8.],\n",
       "       [ 9., 10., 11.]])"
      ]
     },
     "execution_count": 66,
     "metadata": {},
     "output_type": "execute_result"
    }
   ],
   "source": [
    "arr2 = np.arange(0.,12.).reshape(4,3)\n",
    "arr2"
   ]
  },
  {
   "cell_type": "code",
   "execution_count": 67,
   "id": "e3406234-b81b-4d53-9f05-a5e69dee49af",
   "metadata": {},
   "outputs": [
    {
     "name": "stdout",
     "output_type": "stream",
     "text": [
      "tensor([[ 0.,  1.,  2.],\n",
      "        [ 3.,  4.,  5.],\n",
      "        [ 6.,  7.,  8.],\n",
      "        [ 9., 10., 11.]], dtype=torch.float64)\n",
      "torch.DoubleTensor\n"
     ]
    }
   ],
   "source": [
    "x2 = torch.from_numpy(arr2)\n",
    "print(x2)\n",
    "print(x2.type())"
   ]
  },
  {
   "cell_type": "markdown",
   "id": "da2dd226-d45a-42f6-9adb-199e7c38fc3d",
   "metadata": {},
   "source": [
    "copying and sharing"
   ]
  },
  {
   "cell_type": "code",
   "execution_count": 71,
   "id": "4551edf4-7040-47c9-bd88-94da47d0d1dc",
   "metadata": {},
   "outputs": [
    {
     "name": "stdout",
     "output_type": "stream",
     "text": [
      "tensor([0, 1, 2, 3, 4])\n"
     ]
    }
   ],
   "source": [
    "arr = np.arange(0,5)\n",
    "x = torch.tensor(arr)\n",
    "print(x)"
   ]
  },
  {
   "cell_type": "code",
   "execution_count": 72,
   "id": "c9e15960-6554-442b-a71e-6572804f78d9",
   "metadata": {},
   "outputs": [
    {
     "name": "stdout",
     "output_type": "stream",
     "text": [
      "tensor([0, 1, 2, 3, 4])\n"
     ]
    }
   ],
   "source": [
    "arr[0] = 99\n",
    "print(x)"
   ]
  },
  {
   "cell_type": "markdown",
   "id": "8e7a5d83-ccec-4e57-882f-8ff474c11787",
   "metadata": {},
   "source": [
    "### BTVN3: giải thích lý do tại sao cho 2 TH trên\n",
    "\n",
    "#### Giải thích:\n",
    "#### Khi tạo tensor từ mảng numpy bằng torch.tensor(arr), PyTorch sẽ tạo một bản sao (copy) của dữ liệu,\n",
    "#### Không chia sẻ bộ nhớ với mảng numpy gốc. Vì vậy, khi ta thay đổi giá trị của arr,\n",
    "#### Tensor x không bị ảnh hưởng, nên giá trị của x vẫn giữ nguyên.\n"
   ]
  },
  {
   "cell_type": "code",
   "execution_count": 6,
   "id": "819246d3-7e6e-4d07-a44c-1eb3f475d2cd",
   "metadata": {},
   "outputs": [
    {
     "name": "stdout",
     "output_type": "stream",
     "text": [
      "Empty Tensor:\n",
      "tensor([[-8.3201e+03,  1.6493e-42,  0.0000e+00],\n",
      "        [ 0.0000e+00,  0.0000e+00,  0.0000e+00],\n",
      "        [ 0.0000e+00,  0.0000e+00,  0.0000e+00]])\n"
     ]
    }
   ],
   "source": [
    "#BTVN4: Bạn hãy giúp T tạo tensor với:\n",
    "# Empyty\n",
    "empty_tensor = torch.empty(3, 3)\n",
    "print(\"Empty Tensor:\")\n",
    "print(empty_tensor)\n"
   ]
  },
  {
   "cell_type": "code",
   "execution_count": 7,
   "id": "f893b486-bc62-4ebc-830b-6e483150e776",
   "metadata": {},
   "outputs": [
    {
     "name": "stdout",
     "output_type": "stream",
     "text": [
      "\n",
      "Zeros Tensor:\n",
      "tensor([[0., 0., 0.],\n",
      "        [0., 0., 0.],\n",
      "        [0., 0., 0.]])\n"
     ]
    }
   ],
   "source": [
    "# Zeros\n",
    "zeros_tensor = torch.zeros(3, 3)\n",
    "print(\"\\nZeros Tensor:\")\n",
    "print(zeros_tensor)\n"
   ]
  },
  {
   "cell_type": "code",
   "execution_count": 8,
   "id": "473d4f8a-9cfa-42bf-9b0f-8bd9d64f22ff",
   "metadata": {},
   "outputs": [
    {
     "name": "stdout",
     "output_type": "stream",
     "text": [
      "\n",
      "Ones Tensor:\n",
      "tensor([[1., 1., 1.],\n",
      "        [1., 1., 1.],\n",
      "        [1., 1., 1.]])\n"
     ]
    }
   ],
   "source": [
    "# Ones\n",
    "ones_tensor = torch.ones(3, 3)\n",
    "print(\"\\nOnes Tensor:\")\n",
    "print(ones_tensor)"
   ]
  },
  {
   "cell_type": "code",
   "execution_count": 9,
   "id": "a123f78b-f5a9-4b84-a985-f84d98bc725f",
   "metadata": {},
   "outputs": [
    {
     "name": "stdout",
     "output_type": "stream",
     "text": [
      "\n",
      "Random Tensor:\n",
      "tensor([[0.3904, 0.6009, 0.2566],\n",
      "        [0.7936, 0.9408, 0.1332],\n",
      "        [0.9346, 0.5936, 0.8694]])\n"
     ]
    }
   ],
   "source": [
    "# Random\n",
    "random_tensor = torch.rand(3, 3)\n",
    "print(\"\\nRandom Tensor:\")\n",
    "print(random_tensor)"
   ]
  },
  {
   "cell_type": "code",
   "execution_count": 10,
   "id": "f31546f9-7865-4d52-873c-833ab01cd361",
   "metadata": {},
   "outputs": [
    {
     "name": "stdout",
     "output_type": "stream",
     "text": [
      "\n",
      "Original Tensor:\n",
      "tensor([0, 1, 2, 3, 4, 5, 6, 7, 8])\n",
      "\n",
      "Reshaped Tensor (using view):\n",
      "tensor([[0, 1, 2],\n",
      "        [3, 4, 5],\n",
      "        [6, 7, 8]])\n"
     ]
    }
   ],
   "source": [
    "# Reshape với view\n",
    "original_tensor = torch.arange(9)\n",
    "reshaped_tensor = original_tensor.view(3, 3)\n",
    "print(\"\\nOriginal Tensor:\")\n",
    "print(original_tensor)\n",
    "print(\"\\nReshaped Tensor (using view):\")\n",
    "print(reshaped_tensor)"
   ]
  },
  {
   "cell_type": "code",
   "execution_count": 5,
   "id": "357f74c8-839f-4765-b4ce-d51c4a9505e7",
   "metadata": {},
   "outputs": [],
   "source": [
    "#Dealine 16/03"
   ]
  },
  {
   "cell_type": "code",
   "execution_count": null,
   "id": "8b60d49f-b4a5-415b-bb10-91741123fa86",
   "metadata": {},
   "outputs": [],
   "source": []
  }
 ],
 "metadata": {
  "kernelspec": {
   "display_name": "Python 3 (ipykernel)",
   "language": "python",
   "name": "python3"
  },
  "language_info": {
   "codemirror_mode": {
    "name": "ipython",
    "version": 3
   },
   "file_extension": ".py",
   "mimetype": "text/x-python",
   "name": "python",
   "nbconvert_exporter": "python",
   "pygments_lexer": "ipython3",
   "version": "3.12.2"
  }
 },
 "nbformat": 4,
 "nbformat_minor": 5
}
