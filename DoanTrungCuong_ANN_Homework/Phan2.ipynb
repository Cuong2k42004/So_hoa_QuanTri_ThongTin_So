{
 "cells": [
  {
   "cell_type": "code",
   "execution_count": null,
   "id": "da69ceeb-71d8-48c1-adaf-4a76820069ce",
   "metadata": {},
   "outputs": [],
   "source": []
  },
  {
   "cell_type": "code",
   "execution_count": 1,
   "id": "1057b971-851f-4761-b9b8-e4f5252b719c",
   "metadata": {},
   "outputs": [],
   "source": [
    "import torch\n",
    "import torch.nn as nn\n",
    "import torch.optim as optim\n",
    "from torch.utils.data import DataLoader, TensorDataset\n"
   ]
  },
  {
   "cell_type": "code",
   "execution_count": 2,
   "id": "612132f1-0265-419e-871c-c59c7b364c1d",
   "metadata": {},
   "outputs": [],
   "source": [
    "# Tạo dữ liệu mẫu\n",
    "X = torch.rand(1000, 2)\n",
    "y = (X[:, 0] + X[:, 1] > 1).float().unsqueeze(1)\n",
    "\n",
    "dataset = TensorDataset(X, y)\n",
    "dataloader = DataLoader(dataset, batch_size=32, shuffle=True)\n",
    "\n"
   ]
  },
  {
   "cell_type": "code",
   "execution_count": 3,
   "id": "5e7fa18f-8b8d-4e45-bcaf-a4f5cc7b84fc",
   "metadata": {},
   "outputs": [],
   "source": [
    "# Định nghĩa mô hình\n",
    "class ANN(nn.Module):\n",
    "    def __init__(self):\n",
    "        super(ANN, self).__init__()\n",
    "        self.hidden = nn.Linear(2, 4)\n",
    "        self.output = nn.Linear(4, 1)\n",
    "\n",
    "    def forward(self, x):\n",
    "        x = torch.relu(self.hidden(x))\n",
    "        return self.output(x)  # Không dùng Sigmoid khi dùng BCEWithLogitsLoss"
   ]
  },
  {
   "cell_type": "code",
   "execution_count": 4,
   "id": "1ddbabdc-5431-462f-b7fa-8e9f83bd1b0c",
   "metadata": {},
   "outputs": [],
   "source": [
    "# Hàm huấn luyện\n",
    "def train_model(loss_fn, optimizer_fn, use_logits_loss=False):\n",
    "    model = ANN()\n",
    "    optimizer = optimizer_fn(model.parameters(), lr=0.01)\n",
    "    loss_function = loss_fn()\n",
    "    \n",
    "    for epoch in range(100):\n",
    "        for batch_X, batch_y in dataloader:\n",
    "            optimizer.zero_grad()\n",
    "            output = model(batch_X)\n",
    "            if use_logits_loss:\n",
    "                loss = loss_function(output, batch_y)\n",
    "            else:\n",
    "                loss = loss_function(torch.sigmoid(output), batch_y)\n",
    "            loss.backward()\n",
    "            optimizer.step()\n",
    "    \n",
    "    # Tính mất mát và độ chính xác cuối cùng\n",
    "    with torch.no_grad():\n",
    "        preds = torch.sigmoid(model(X)) > 0.5\n",
    "        accuracy = (preds == y).float().mean().item()\n",
    "        final_loss = loss.item()\n",
    "    \n",
    "    return final_loss, accuracy"
   ]
  },
  {
   "cell_type": "code",
   "execution_count": 5,
   "id": "b2db4609-3dbb-4e26-84d1-32c3c1618c20",
   "metadata": {},
   "outputs": [],
   "source": [
    "# Huấn luyện với BCEWithLogitsLoss và Adam\n",
    "loss_bce_logits, acc_bce_logits = train_model(nn.BCEWithLogitsLoss, optim.Adam, use_logits_loss=True)\n",
    "# Huấn luyện với BCELoss và SGD\n",
    "loss_bce_sgd, acc_bce_sgd = train_model(nn.BCELoss, optim.SGD, use_logits_loss=False)\n"
   ]
  },
  {
   "cell_type": "code",
   "execution_count": 6,
   "id": "8a6a3f00-c0bf-44f0-96a7-d387a638098e",
   "metadata": {},
   "outputs": [
    {
     "name": "stdout",
     "output_type": "stream",
     "text": [
      "BCEWithLogitsLoss + Adam: Loss = 0.0147, Accuracy = 0.9940\n",
      "BCELoss + SGD: Loss = 0.3806, Accuracy = 0.9800\n"
     ]
    }
   ],
   "source": [
    "# In kết quả\n",
    "print(f\"BCEWithLogitsLoss + Adam: Loss = {loss_bce_logits:.4f}, Accuracy = {acc_bce_logits:.4f}\")\n",
    "print(f\"BCELoss + SGD: Loss = {loss_bce_sgd:.4f}, Accuracy = {acc_bce_sgd:.4f}\")"
   ]
  },
  {
   "cell_type": "markdown",
   "id": "4cdb52e0-a817-45c1-96ee-7da93e218d08",
   "metadata": {},
   "source": [
    "## Câu hỏi"
   ]
  },
  {
   "cell_type": "markdown",
   "id": "4cb9c131-da21-45a5-b6cd-788004915336",
   "metadata": {},
   "source": [
    "### 1. BCEWithLogitsLoss vs BCELoss\n",
    "- **Mất mát:** BCEWithLogitsLoss có mất mát thấp hơn (0.0147 so với 0.3806), cho thấy nó hoạt động tốt hơn trong bài toán này.\n",
    "- **Độ chính xác:** BCEWithLogitsLoss đạt độ chính xác 99.4%, trong khi BCELoss với SGD đạt 98.0%.\n",
    "- **Lý do:** BCEWithLogitsLoss được thiết kế để hoạt động tốt hơn khi đầu ra của mô hình chưa qua Sigmoid, giúp cải thiện độ ổn định số học và tránh tình trạng gradient vanishing."
   ]
  },
  {
   "cell_type": "markdown",
   "id": "7661e2c3-8d27-43df-b383-8cce4bd183bf",
   "metadata": {},
   "source": [
    "### 2. Adam vs SGD\n",
    "- **Tốc độ giảm mất mát:** Adam giảm mất mát nhanh hơn, dẫn đến kết quả cuối cùng tốt hơn.\n",
    "- **Độ chính xác:** Adam đạt độ chính xác cao hơn so với SGD, do cơ chế điều chỉnh hệ số học tự động giúp tránh bị mắc kẹt ở cực tiểu cục bộ.\n",
    "- **Lý do:** Adam sử dụng moment và điều chỉnh tốc độ học theo từng tham số, giúp tối ưu hóa hiệu quả hơn so với SGD, đặc biệt khi dữ liệu có độ biến thiên cao.\n",
    "\"\"\""
   ]
  },
  {
   "cell_type": "code",
   "execution_count": null,
   "id": "c9a12729-faa9-47e7-95ad-3186f45f76e2",
   "metadata": {},
   "outputs": [],
   "source": []
  }
 ],
 "metadata": {
  "kernelspec": {
   "display_name": "Python 3 (ipykernel)",
   "language": "python",
   "name": "python3"
  },
  "language_info": {
   "codemirror_mode": {
    "name": "ipython",
    "version": 3
   },
   "file_extension": ".py",
   "mimetype": "text/x-python",
   "name": "python",
   "nbconvert_exporter": "python",
   "pygments_lexer": "ipython3",
   "version": "3.10.0"
  }
 },
 "nbformat": 4,
 "nbformat_minor": 5
}
