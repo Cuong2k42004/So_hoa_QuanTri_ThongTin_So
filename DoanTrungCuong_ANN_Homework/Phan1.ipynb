{
 "cells": [
  {
   "cell_type": "code",
   "execution_count": 1,
   "id": "d2d6e92e-d04a-4aa8-a819-2e660d4a48af",
   "metadata": {},
   "outputs": [],
   "source": [
    "import torch\n",
    "import torch.nn as nn\n",
    "import torch.optim as optim\n",
    "from sklearn.model_selection import train_test_split\n",
    "from sklearn.preprocessing import StandardScaler\n",
    "import numpy as np"
   ]
  },
  {
   "cell_type": "code",
   "execution_count": 2,
   "id": "a6f28d0c-0de6-48be-83d0-e6c3d48029fe",
   "metadata": {},
   "outputs": [],
   "source": [
    "X = np.random.rand(100, 2)  # 100 mẫu, 2 đặc trưng\n",
    "y = np.random.randint(0, 2, 100)  # nhãn nhị phân\n"
   ]
  },
  {
   "cell_type": "code",
   "execution_count": 3,
   "id": "10142b87-8591-44b3-8c17-7db7a14e425c",
   "metadata": {},
   "outputs": [],
   "source": [
    "# Chia dữ liệu thành tập huấn luyện và kiểm tra\n",
    "X_train, X_test, y_train, y_test = train_test_split(X, y, test_size=0.2, random_state=42)\n"
   ]
  },
  {
   "cell_type": "code",
   "execution_count": 4,
   "id": "f77e58a7-e519-493f-b6e0-fe3c7bf2014c",
   "metadata": {},
   "outputs": [],
   "source": [
    "# Chuẩn hóa dữ liệu\n",
    "scaler = StandardScaler()\n",
    "X_train = scaler.fit_transform(X_train)\n",
    "X_test = scaler.transform(X_test)\n"
   ]
  },
  {
   "cell_type": "code",
   "execution_count": 5,
   "id": "ef941a6a-b87a-4c63-a575-b0d8f2f3f92b",
   "metadata": {},
   "outputs": [],
   "source": [
    "# Chuyển đổi dữ liệu thành tensor\n",
    "X_train_tensor = torch.tensor(X_train, dtype=torch.float32)\n",
    "y_train_tensor = torch.tensor(y_train, dtype=torch.float32).view(-1, 1)\n",
    "X_test_tensor = torch.tensor(X_test, dtype=torch.float32)\n",
    "y_test_tensor = torch.tensor(y_test, dtype=torch.float32).view(-1, 1)"
   ]
  },
  {
   "cell_type": "code",
   "execution_count": 6,
   "id": "3992be09-5caa-4ad0-98e2-93250145c6f0",
   "metadata": {},
   "outputs": [],
   "source": [
    "# Mô hình với 8 nút trong lớp ẩn\n",
    "class Model_8(nn.Module):\n",
    "    def __init__(self):\n",
    "        super(Model_8, self).__init__()\n",
    "        self.fc1 = nn.Linear(2, 8)  # Lớp ẩn 1 với 8 nút\n",
    "        self.relu = nn.ReLU()\n",
    "        self.fc2 = nn.Linear(8, 1)  # Đầu ra với 1 nút (Sigmoid)\n",
    "\n",
    "    def forward(self, x):\n",
    "        x = self.relu(self.fc1(x))\n",
    "        x = torch.sigmoid(self.fc2(x))\n",
    "        return x\n"
   ]
  },
  {
   "cell_type": "code",
   "execution_count": 7,
   "id": "7d3b7e48-e623-4d13-a4c6-d89a05c21703",
   "metadata": {},
   "outputs": [],
   "source": [
    "# Khởi tạo mô hình, loss function và optimizer\n",
    "model_8 = Model_8()\n",
    "criterion = nn.BCELoss()\n",
    "optimizer = optim.Adam(model_8.parameters(), lr=0.001)"
   ]
  },
  {
   "cell_type": "code",
   "execution_count": 8,
   "id": "0df3a14c-4dab-4b61-b133-7afd869c3842",
   "metadata": {},
   "outputs": [
    {
     "name": "stdout",
     "output_type": "stream",
     "text": [
      "Epoch [0/100], Loss: 0.6813\n",
      "Epoch [10/100], Loss: 0.6793\n",
      "Epoch [20/100], Loss: 0.6776\n",
      "Epoch [30/100], Loss: 0.6758\n",
      "Epoch [40/100], Loss: 0.6741\n",
      "Epoch [50/100], Loss: 0.6725\n",
      "Epoch [60/100], Loss: 0.6708\n",
      "Epoch [70/100], Loss: 0.6693\n",
      "Epoch [80/100], Loss: 0.6677\n",
      "Epoch [90/100], Loss: 0.6663\n"
     ]
    }
   ],
   "source": [
    "# Huấn luyện mô hình\n",
    "epochs = 100\n",
    "for epoch in range(epochs):\n",
    "    model_8.train()\n",
    "    optimizer.zero_grad()\n",
    "    output = model_8(X_train_tensor)\n",
    "    loss = criterion(output, y_train_tensor)\n",
    "    loss.backward()\n",
    "    optimizer.step()\n",
    "\n",
    "    if epoch % 10 == 0:  # In mỗi 10 epochs\n",
    "        print(f\"Epoch [{epoch}/{epochs}], Loss: {loss.item():.4f}\")\n"
   ]
  },
  {
   "cell_type": "code",
   "execution_count": 9,
   "id": "c36e42a8-2164-432d-b5d6-19da7d290975",
   "metadata": {},
   "outputs": [
    {
     "name": "stdout",
     "output_type": "stream",
     "text": [
      "Loss cuối cùng với 8 nút: 0.6651\n",
      "Accuracy với 8 nút: 0.3500\n"
     ]
    }
   ],
   "source": [
    "# Đánh giá mô hình trên tập kiểm tra\n",
    "model_8.eval()\n",
    "with torch.no_grad():\n",
    "    y_pred = model_8(X_test_tensor)\n",
    "    y_pred = (y_pred > 0.5).float()\n",
    "    accuracy = (y_pred == y_test_tensor).float().mean()\n",
    "    print(f\"Loss cuối cùng với 8 nút: {loss.item():.4f}\")\n",
    "    print(f\"Accuracy với 8 nút: {accuracy.item():.4f}\")"
   ]
  },
  {
   "cell_type": "code",
   "execution_count": 14,
   "id": "c0e2ffa6-9080-4e57-8b25-1f283ac5522a",
   "metadata": {},
   "outputs": [],
   "source": [
    "# Mô hình với 2 lớp ẩn (8 nút và 6 nút)\n",
    "class Model_8_6(nn.Module):\n",
    "    def __init__(self):\n",
    "        super(Model_8_6, self).__init__()\n",
    "        self.fc1 = nn.Linear(2, 8)  # Lớp ẩn 1 với 8 nút\n",
    "        self.fc2 = nn.Linear(8, 6)  # Lớp ẩn 2 với 6 nút\n",
    "        self.relu = nn.ReLU()\n",
    "        self.fc3 = nn.Linear(6, 1)  # Đầu ra với 1 nút (Sigmoid)\n",
    "\n",
    "    def forward(self, x):\n",
    "        x = self.relu(self.fc1(x))  # Lớp ẩn 1 với ReLU\n",
    "        x = self.relu(self.fc2(x))  # Lớp ẩn 2 với ReLU\n",
    "        x = torch.sigmoid(self.fc3(x))  # Đầu ra với Sigmoid\n",
    "        return x\n"
   ]
  },
  {
   "cell_type": "code",
   "execution_count": 15,
   "id": "13a3900c-ab93-41a6-8dea-1b7a9d9cebae",
   "metadata": {},
   "outputs": [],
   "source": [
    "# Khởi tạo mô hình, loss function và optimizer\n",
    "model_8_6 = Model_8_6()\n",
    "criterion = nn.BCELoss()\n",
    "optimizer = optim.Adam(model_8_6.parameters(), lr=0.001)\n"
   ]
  },
  {
   "cell_type": "code",
   "execution_count": 16,
   "id": "54af594f-c097-4cc7-96de-e28deb72f0ab",
   "metadata": {},
   "outputs": [
    {
     "name": "stdout",
     "output_type": "stream",
     "text": [
      "Epoch [0/100], Loss: 0.6944\n",
      "Epoch [10/100], Loss: 0.6909\n",
      "Epoch [20/100], Loss: 0.6877\n",
      "Epoch [30/100], Loss: 0.6844\n",
      "Epoch [40/100], Loss: 0.6813\n",
      "Epoch [50/100], Loss: 0.6787\n",
      "Epoch [60/100], Loss: 0.6763\n",
      "Epoch [70/100], Loss: 0.6742\n",
      "Epoch [80/100], Loss: 0.6722\n",
      "Epoch [90/100], Loss: 0.6703\n"
     ]
    }
   ],
   "source": [
    "# Huấn luyện mô hình\n",
    "epochs = 100\n",
    "for epoch in range(epochs):\n",
    "    model_8_6.train()\n",
    "    optimizer.zero_grad()\n",
    "    output = model_8_6(X_train_tensor)\n",
    "    loss = criterion(output, y_train_tensor)\n",
    "    loss.backward()\n",
    "    optimizer.step()\n",
    "\n",
    "    if epoch % 10 == 0:  # In mỗi 10 epochs\n",
    "        print(f\"Epoch [{epoch}/{epochs}], Loss: {loss.item():.4f}\")\n"
   ]
  },
  {
   "cell_type": "code",
   "execution_count": 17,
   "id": "17360534-08a4-41a3-87b0-295099b6041d",
   "metadata": {},
   "outputs": [
    {
     "name": "stdout",
     "output_type": "stream",
     "text": [
      "Loss cuối cùng với 8+6 nút: 0.6685\n",
      "Accuracy với 8+6 nút: 0.4000\n"
     ]
    }
   ],
   "source": [
    "# Đánh giá mô hình trên tập kiểm tra\n",
    "model_8_6.eval()\n",
    "with torch.no_grad():\n",
    "    y_pred = model_8_6(X_test_tensor)\n",
    "    y_pred = (y_pred > 0.5).float()  # Chuyển đầu ra về nhị phân (0 hoặc 1)\n",
    "    accuracy = (y_pred == y_test_tensor).float().mean()\n",
    "    print(f\"Loss cuối cùng với 8+6 nút: {loss.item():.4f}\")\n",
    "    print(f\"Accuracy với 8+6 nút: {accuracy.item():.4f}\")"
   ]
  },
  {
   "cell_type": "markdown",
   "id": "56ecbfb3-e78d-4961-95ff-44805f971f34",
   "metadata": {},
   "source": [
    "## So sánh kết quả của 3 mô hình (4 nút, 8 nút, 8+6 nút):\n",
    "***1. Mất mát cuối cùng thay đổi thế nào?***\n",
    "\n",
    "### Mô hình 4 nút:\n",
    "\n",
    "**Khi chỉ có 4 nút trong lớp ẩn, mô hình có ít khả năng học các đặc trưng phức tạp của dữ liệu. Do đó, giá trị mất mát cuối cùng có thể khá cao, vì mô hình chưa đủ mạnh để phân loại chính xác các mẫu trong dữ liệu.**\n",
    "\n",
    "### Mô hình 8 nút:\n",
    "\n",
    "**Khi số nút trong lớp ẩn được tăng lên 8, mô hình có khả năng học tốt hơn và thể hiện sự giảm mất mát so với mô hình 4 nút. Việc tăng số nút cho phép mô hình học các đặc trưng phức tạp hơn của dữ liệu, giúp giảm thiểu sự sai lệch trong dự đoán.**\n",
    "\n",
    "### Mô hình 8+6 nút:\n",
    "\n",
    "**Khi thêm một lớp ẩn thứ hai với 6 nút, mô hình sẽ có thêm khả năng học và kết hợp các đặc trưng ở các cấp độ sâu hơn. Mất mát cuối cùng có thể tiếp tục giảm, nhưng sự giảm này sẽ ít đáng kể nếu dữ liệu không đủ phức tạp để mô hình tận dụng thêm lớp ẩn thứ hai. Mặc dù vậy, thêm lớp ẩn thứ hai vẫn giúp mô hình có khả năng học sâu hơn.**\n",
    "\n",
    "***2. Độ chính xác có cải thiện không? Tại sao bạn nghĩ vậy?***\n",
    "\n",
    "### Mô hình 4 nút:\n",
    "\n",
    "**Độ chính xác sẽ tương đối thấp khi chỉ có 4 nút trong lớp ẩn, vì mô hình không có đủ độ phức tạp để học các mối quan hệ giữa các đặc trưng trong dữ liệu. Do đó, mô hình này có thể dễ dàng bị thiếu sót khi phân loại đúng các mẫu trong dữ liệu kiểm tra.**\n",
    "\n",
    "### Mô hình 8 nút:\n",
    "\n",
    "**Khi tăng số lượng nút lên 8, độ chính xác có thể cải thiện do mô hình có khả năng học các đặc trưng phức tạp hơn. Tuy nhiên, nếu mô hình không được huấn luyện đủ kỹ hoặc dữ liệu không đủ phức tạp, độ chính xác có thể không cải thiện đáng kể so với mô hình 4 nút.**\n",
    "\n",
    "### Mô hình 8+6 nút:\n",
    "\n",
    "**Độ chính xác có thể cải thiện khi thêm một lớp ẩn thứ hai với 6 nút, nhưng mức độ cải thiện sẽ phụ thuộc vào khả năng mô hình tổng hợp và học các đặc trưng phức tạp từ dữ liệu. Trong một số trường hợp, việc tăng số lượng lớp và nút có thể dẫn đến overfitting (quá khớp), làm giảm độ chính xác trên tập kiểm tra, đặc biệt nếu mô hình học quá nhiều chi tiết không cần thiết.**\n",
    "\n",
    "***3. Tại sao độ chính xác có thể cải thiện?***\n",
    "\n",
    "**Sự cải thiện độ chính xác xảy ra khi mô hình có khả năng học thêm các đặc trưng của dữ liệu. Khi số lượng nút trong lớp ẩn được tăng lên, mô hình có thể học các mối quan hệ phức tạp hơn giữa các đặc trưng và nhãn mục tiêu, từ đó đưa ra dự đoán chính xác hơn.**\n",
    "\n",
    "***Lý do không cải thiện:***\n",
    "\n",
    "**Mặc dù mô hình có thêm lớp ẩn hoặc số nút trong lớp ẩn, nếu dữ liệu không đủ phức tạp hoặc quá ít mẫu để mô hình học tốt, độ chính xác có thể không cải thiện. Hơn nữa, khi mô hình trở nên phức tạp hơn, nguy cơ overfitting cũng tăng lên, làm giảm hiệu suất trên tập kiểm tra.**"
   ]
  },
  {
   "cell_type": "code",
   "execution_count": null,
   "id": "7220267f-a6d8-4172-b8d3-4bc1a46e6570",
   "metadata": {},
   "outputs": [],
   "source": []
  }
 ],
 "metadata": {
  "kernelspec": {
   "display_name": "Python 3 (ipykernel)",
   "language": "python",
   "name": "python3"
  },
  "language_info": {
   "codemirror_mode": {
    "name": "ipython",
    "version": 3
   },
   "file_extension": ".py",
   "mimetype": "text/x-python",
   "name": "python",
   "nbconvert_exporter": "python",
   "pygments_lexer": "ipython3",
   "version": "3.10.0"
  }
 },
 "nbformat": 4,
 "nbformat_minor": 5
}
